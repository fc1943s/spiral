{
 "cells": [
  {
   "cell_type": "markdown",
   "metadata": {},
   "source": [
    "# lustre"
   ]
  },
  {
   "cell_type": "code",
   "execution_count": null,
   "metadata": {
    "dotnet_interactive": {
     "language": "fsharp"
    },
    "polyglot_notebook": {
     "kernelName": "fsharp"
    }
   },
   "outputs": [],
   "source": [
    "#!import ../../../polyglot/lib/fsharp/Notebooks.dib"
   ]
  },
  {
   "cell_type": "markdown",
   "metadata": {},
   "source": [
    "## lustre"
   ]
  },
  {
   "cell_type": "code",
   "execution_count": null,
   "metadata": {
    "dotnet_interactive": {
     "language": "spiral"
    },
    "polyglot_notebook": {
     "kernelName": "spiral"
    }
   },
   "outputs": [],
   "source": [
    "// import gleam/int\n",
    "// import lustre\n",
    "// import lustre/attribute\n",
    "// import lustre/element.{type Element}\n",
    "// import lustre/element/html\n",
    "// import lustre/event\n",
    "// import lustre/ui"
   ]
  },
  {
   "cell_type": "markdown",
   "metadata": {},
   "source": [
    "### model"
   ]
  },
  {
   "cell_type": "code",
   "execution_count": null,
   "metadata": {
    "dotnet_interactive": {
     "language": "spiral"
    },
    "polyglot_notebook": {
     "kernelName": "spiral"
    }
   },
   "outputs": [],
   "source": [
    "// type Model =\n",
    "//   Int\n",
    "type model = int"
   ]
  },
  {
   "cell_type": "markdown",
   "metadata": {},
   "source": [
    "### init"
   ]
  },
  {
   "cell_type": "code",
   "execution_count": null,
   "metadata": {
    "dotnet_interactive": {
     "language": "spiral"
    },
    "polyglot_notebook": {
     "kernelName": "spiral"
    }
   },
   "outputs": [],
   "source": [
    "// fn init(initial_count: Int) -> Model {\n",
    "//   case initial_count < 0 {\n",
    "//     True -> 0\n",
    "//     False -> initial_count\n",
    "//   }\n",
    "// }\n",
    "\n",
    "inl init initial_count =\n",
    "    if initial_count < 0\n",
    "    then 0\n",
    "    else initial_count"
   ]
  },
  {
   "cell_type": "markdown",
   "metadata": {},
   "source": [
    "### msg"
   ]
  },
  {
   "cell_type": "code",
   "execution_count": null,
   "metadata": {
    "dotnet_interactive": {
     "language": "spiral"
    },
    "polyglot_notebook": {
     "kernelName": "spiral"
    }
   },
   "outputs": [],
   "source": [
    "// pub opaque type Msg {\n",
    "//   Incr\n",
    "//   Decr\n",
    "// }\n",
    "union msg =\n",
    "    | Incr\n",
    "    | Decr"
   ]
  },
  {
   "cell_type": "markdown",
   "metadata": {},
   "source": [
    "### update"
   ]
  },
  {
   "cell_type": "code",
   "execution_count": null,
   "metadata": {
    "dotnet_interactive": {
     "language": "spiral"
    },
    "polyglot_notebook": {
     "kernelName": "spiral"
    }
   },
   "outputs": [],
   "source": [
    "// fn update(model: Model, msg: Msg) -> Model {\n",
    "//   case msg {\n",
    "//     Incr -> model + 1\n",
    "//     Decr -> model - 1\n",
    "//   }\n",
    "// }\n",
    "inl update (model, msg) =\n",
    "    match msg with\n",
    "    | Incr => model + 1\n",
    "    | Decr => model - 1"
   ]
  },
  {
   "cell_type": "markdown",
   "metadata": {},
   "source": [
    "### view"
   ]
  },
  {
   "cell_type": "markdown",
   "metadata": {},
   "source": [
    "### main"
   ]
  },
  {
   "cell_type": "code",
   "execution_count": null,
   "metadata": {
    "dotnet_interactive": {
     "language": "spiral"
    },
    "polyglot_notebook": {
     "kernelName": "spiral"
    }
   },
   "outputs": [],
   "source": [
    "// fn view(model: Model) -> Element(Msg) {\n",
    "//   let styles = [#(\"width\", \"100vw\"), #(\"height\", \"100vh\"), #(\"padding\", \"1rem\")]\n",
    "//   let count = int.to_string(model)\n",
    "// \n",
    "//   ui.centre(\n",
    "//     [attribute.style(styles)],\n",
    "//     ui.stack([], [\n",
    "//       ui.button([event.on_click(Incr)], [element.text(\"+\")]),\n",
    "//       html.p([attribute.style([#(\"text-align\", \"center\")])], [\n",
    "//         element.text(count),\n",
    "//       ]),\n",
    "//       ui.button([event.on_click(Decr)], [element.text(\"-\")]),\n",
    "//     ]),\n",
    "//   )\n",
    "// }\n",
    "\n",
    "// fn(List(vdom.Attribute(Msg)), Element(Msg)) -> Element(Msg)\n",
    "\n",
    "nominal attribute t =\n",
    "    `(\n",
    "        backend_switch `(()) `({}) {\n",
    "            Gleam = (fun () => global \"import lustre/internals/vdom\") : () -> ()\n",
    "        }\n",
    "        $'' : $'vdom.Attribute(`t)'\n",
    "    )\n",
    "\n",
    "nominal element t =\n",
    "    `(\n",
    "        backend_switch `(()) `({}) {\n",
    "            Gleam = (fun () => global \"import lustre/element.{type Element}\") : () -> ()\n",
    "        }\n",
    "        $'' : $'Element(`t)'\n",
    "    )\n",
    "\n",
    "inl style forall t. (styles : list (string * string)) : attribute t =\n",
    "    global \"import lustre/attribute\"\n",
    "    inl styles = styles |> listm'.box\n",
    "    $'attribute.style(!styles)'\n",
    "\n",
    "inl centre forall t. (attributes : list (attribute t)) (children : element t) : element t =\n",
    "    global \"import lustre/ui/centre.{centre}\"\n",
    "    inl attributes = attributes |> listm'.box\n",
    "    $'centre(!attributes, !children)'\n",
    "\n",
    "inl button forall t. (attributes : list (attribute t)) (children : list (element t)) : element t =\n",
    "    global \"import lustre/ui/button.{button}\"\n",
    "    inl attributes = attributes |> listm'.box\n",
    "    inl children = children |> listm'.box\n",
    "    $'button(!attributes, !children)'\n",
    "\n",
    "inl on_click forall t. (msg : msg) : attribute t =\n",
    "    global \"import lustre/event\"\n",
    "    $'event.on_click(!msg)'\n",
    "\n",
    "inl div forall t. (attributes : list (attribute t)) (children : list (element t)) : element t =\n",
    "    global \"import lustre/element/html\"\n",
    "    inl attributes = attributes |> listm'.box\n",
    "    inl children = children |> listm'.box\n",
    "    $'html.div(!attributes, !children)'\n",
    "\n",
    "inl p forall t. (attributes : list (attribute t)) (children : list (element t)) : element t =\n",
    "    global \"import lustre/element/html\"\n",
    "    inl attributes = attributes |> listm'.box\n",
    "    inl children = children |> listm'.box\n",
    "    $'html.p(!attributes, !children)'\n",
    "\n",
    "inl text forall t. (text : string) : element t =\n",
    "    global \"import lustre/element/html\"\n",
    "    $'element.text(!text)'\n",
    "\n",
    "inl view model =\n",
    "    div [\n",
    "        style [\n",
    "            \"display\", \"flex\"\n",
    "        ]\n",
    "    ] [\n",
    "        div [\n",
    "            style [\n",
    "                \"display\", \"flex\"\n",
    "                \"flex-direction\", \"column\"\n",
    "            ]\n",
    "        ] [\n",
    "            button [\n",
    "                on_click Incr\n",
    "            ] [\n",
    "                text \"+\"\n",
    "            ]\n",
    "            p [\n",
    "                style [\n",
    "                    \"text-align\", \"center\"\n",
    "                ]\n",
    "            ] [\n",
    "                model |> sm'.obj_to_string |> text\n",
    "            ]\n",
    "            button [\n",
    "                on_click Decr\n",
    "            ] [\n",
    "                text \"-\"\n",
    "            ]\n",
    "        ]\n",
    "    ]"
   ]
  },
  {
   "cell_type": "code",
   "execution_count": null,
   "metadata": {
    "dotnet_interactive": {
     "language": "spiral"
    },
    "polyglot_notebook": {
     "kernelName": "spiral"
    }
   },
   "outputs": [],
   "source": [
    "nominal app model msg = $'lustre.App(`model, `model, `msg)'\n",
    "\n",
    "inl simple forall model msg.\n",
    "    (init : model -> model)\n",
    "    (update : model * msg -> model)\n",
    "    (view : model -> element msg)\n",
    "    : app model msg\n",
    "    =\n",
    "    global \"import lustre\"\n",
    "    $'lustre.simple(!init, fn (a, b) { !update(#(a, b)) }, !view)'\n",
    "\n",
    "inl main' () =\n",
    "    global \"import lustre\"\n",
    "    inl app : _ model _ = simple init update view\n",
    "    $'let assert Ok(_) = lustre.start(!app, \"#app\", 0)' : ()"
   ]
  },
  {
   "cell_type": "code",
   "execution_count": null,
   "metadata": {
    "dotnet_interactive": {
     "language": "fsharp"
    },
    "polyglot_notebook": {
     "kernelName": "fsharp"
    }
   },
   "outputs": [],
   "source": [
    "// Formatter.Register<obj>(formatter:(Func<_,string>(fun x -> if $\"{x}\".StartsWith \"<!DOCTYPE html\" then x else x)), mimeType:\"text/html\")\n",
    "// Formatter.Register (fun (x:obj) (writer: TextWriter) ->\n",
    "//     if $\"{x}\".StartsWith \"<!DOCTYPE html\"\n",
    "//     then fprintfn writer \"1-%120A\" x\n",
    "//     else fprintfn writer \"2-%120A\" x\n",
    "// )"
   ]
  },
  {
   "cell_type": "code",
   "execution_count": null,
   "metadata": {
    "dotnet_interactive": {
     "language": "spiral"
    },
    "polyglot_notebook": {
     "kernelName": "spiral"
    }
   },
   "outputs": [
    {
     "data": {
      "text/html": [
       "<link\n",
       "  rel=\"stylesheet\"\n",
       "  href=\"http://localhost:3000/target/spiral_Eval/packages/58cfea8038b59360a05c1075b9f48fd815a05577ddc6811bff130c267ca3b52f/build/dev/javascript/lustre_ui/priv/styles.css\"\n",
       "/>\n",
       "<div id=\"app\"></div>\n",
       "<script type=\"module\">\n",
       "  import * as main from \"http://localhost:3000/target/spiral_Eval/packages/58cfea8038b59360a05c1075b9f48fd815a05577ddc6811bff130c267ca3b52f/build/dev/javascript/main/main.mjs\"\n",
       "  main.main()\n",
       "</script>\n"
      ]
     },
     "metadata": {},
     "output_type": "display_data"
    }
   ],
   "source": [
    "//// test\n",
    "///! gleam -t javascript -d lustre=\\\">=4.6.0\\\" lustre_ui=\\\"1.0.0-rc.1\\\" gleam_json=\\\">=2.0.0\\\"\n",
    "\n",
    "main' ()"
   ]
  }
 ],
 "metadata": {},
 "nbformat": 4,
 "nbformat_minor": 5
}