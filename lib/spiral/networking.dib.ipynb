{
 "cells": [
  {
   "cell_type": "markdown",
   "metadata": {},
   "source": [
    "# networking"
   ]
  },
  {
   "cell_type": "code",
   "execution_count": null,
   "metadata": {
    "dotnet_interactive": {
     "language": "spiral"
    },
    "polyglot_notebook": {
     "kernelName": "spiral"
    }
   },
   "outputs": [],
   "source": [
    "open rust.rust_operators"
   ]
  },
  {
   "cell_type": "code",
   "execution_count": null,
   "metadata": {
    "dotnet_interactive": {
     "language": "spiral"
    },
    "polyglot_notebook": {
     "kernelName": "spiral"
    }
   },
   "outputs": [],
   "source": [
    "//// test\n",
    "\n",
    "open testing"
   ]
  },
  {
   "cell_type": "markdown",
   "metadata": {},
   "source": [
    "## rust"
   ]
  },
  {
   "cell_type": "markdown",
   "metadata": {},
   "source": [
    "### reqwest_response"
   ]
  },
  {
   "cell_type": "code",
   "execution_count": null,
   "metadata": {
    "dotnet_interactive": {
     "language": "spiral"
    },
    "polyglot_notebook": {
     "kernelName": "spiral"
    }
   },
   "outputs": [],
   "source": [
    "nominal reqwest_response =\n",
    "    `(\n",
    "        global \"#if FABLE_COMPILER\\n[<Fable.Core.Erase; Fable.Core.Emit(\\\"reqwest_wasm::Response\\\")>]\\n#endif\\ntype reqwest_Response = class end\"\n",
    "        $'' : $'reqwest_Response'\n",
    "    )"
   ]
  },
  {
   "cell_type": "markdown",
   "metadata": {},
   "source": [
    "### reqwest_error"
   ]
  },
  {
   "cell_type": "code",
   "execution_count": null,
   "metadata": {
    "dotnet_interactive": {
     "language": "spiral"
    },
    "polyglot_notebook": {
     "kernelName": "spiral"
    }
   },
   "outputs": [],
   "source": [
    "nominal reqwest_error =\n",
    "    `(\n",
    "        global \"#if FABLE_COMPILER\\n[<Fable.Core.Erase; Fable.Core.Emit(\\\"reqwest_wasm::Error\\\")>]\\n#endif\\ntype reqwest_Error = class end\"\n",
    "        $'' : $'reqwest_Error'\n",
    "    )"
   ]
  },
  {
   "cell_type": "markdown",
   "metadata": {},
   "source": [
    "### request_builder"
   ]
  },
  {
   "cell_type": "code",
   "execution_count": null,
   "metadata": {
    "dotnet_interactive": {
     "language": "spiral"
    },
    "polyglot_notebook": {
     "kernelName": "spiral"
    }
   },
   "outputs": [],
   "source": [
    "nominal request_builder =\n",
    "    `(\n",
    "        global \"#if FABLE_COMPILER\\n[<Fable.Core.Erase; Fable.Core.Emit(\\\"reqwest_wasm::RequestBuilder\\\")>]\\n#endif\\ntype reqwest_RequestBuilder = class end\"\n",
    "        $'' : $'reqwest_RequestBuilder'\n",
    "    )"
   ]
  },
  {
   "cell_type": "markdown",
   "metadata": {},
   "source": [
    "### request_type"
   ]
  },
  {
   "cell_type": "code",
   "execution_count": null,
   "metadata": {
    "dotnet_interactive": {
     "language": "spiral"
    },
    "polyglot_notebook": {
     "kernelName": "spiral"
    }
   },
   "outputs": [],
   "source": [
    "union request_type =\n",
    "    | Get\n",
    "    | Post"
   ]
  },
  {
   "cell_type": "markdown",
   "metadata": {},
   "source": [
    "### request"
   ]
  },
  {
   "cell_type": "code",
   "execution_count": null,
   "metadata": {
    "dotnet_interactive": {
     "language": "spiral"
    },
    "polyglot_notebook": {
     "kernelName": "spiral"
    }
   },
   "outputs": [],
   "source": [
    "type request =\n",
    "    {\n",
    "        url : string\n",
    "        request_type : request_type\n",
    "        body : string\n",
    "        json : bool\n",
    "        auto_refresh : bool\n",
    "    }"
   ]
  },
  {
   "cell_type": "markdown",
   "metadata": {},
   "source": [
    "### new_request_get"
   ]
  },
  {
   "cell_type": "code",
   "execution_count": null,
   "metadata": {
    "dotnet_interactive": {
     "language": "spiral"
    },
    "polyglot_notebook": {
     "kernelName": "spiral"
    }
   },
   "outputs": [],
   "source": [
    "inl new_request_get (url : string) : request_builder =\n",
    "    inl url = join url\n",
    "    inl url = url |> sm'.to_std_string\n",
    "    inl url = join url\n",
    "    !\\($'\"reqwest_wasm::Client::builder().build().map_err(|err| err.to_string())?.get(!url)\"')"
   ]
  },
  {
   "cell_type": "markdown",
   "metadata": {},
   "source": [
    "### new_request_post"
   ]
  },
  {
   "cell_type": "code",
   "execution_count": null,
   "metadata": {
    "dotnet_interactive": {
     "language": "spiral"
    },
    "polyglot_notebook": {
     "kernelName": "spiral"
    }
   },
   "outputs": [],
   "source": [
    "inl new_request_post (url : string) : request_builder =\n",
    "    inl url = join url\n",
    "    inl url = url |> sm'.to_std_string\n",
    "    inl url = join url\n",
    "    !\\($'\"reqwest_wasm::Client::builder().build().map_err(|err| err.to_string())?.post(!url)\"')"
   ]
  },
  {
   "cell_type": "markdown",
   "metadata": {},
   "source": [
    "### request_send"
   ]
  },
  {
   "cell_type": "code",
   "execution_count": null,
   "metadata": {
    "dotnet_interactive": {
     "language": "spiral"
    },
    "polyglot_notebook": {
     "kernelName": "spiral"
    }
   },
   "outputs": [],
   "source": [
    "inl request_send (request : request_builder) : async.future_pin (resultm.result' reqwest_response reqwest_error) =\n",
    "    inl request = join request\n",
    "    !\\($'\"Box::pin(reqwest_wasm::RequestBuilder::send(!request))\"')"
   ]
  },
  {
   "cell_type": "markdown",
   "metadata": {},
   "source": [
    "### request_body"
   ]
  },
  {
   "cell_type": "code",
   "execution_count": null,
   "metadata": {
    "dotnet_interactive": {
     "language": "spiral"
    },
    "polyglot_notebook": {
     "kernelName": "spiral"
    }
   },
   "outputs": [],
   "source": [
    "inl request_body (body : string) (request : request_builder) : request_builder =\n",
    "    inl body = body |> sm'.to_std_string\n",
    "    !\\\\(body, $'\"reqwest_wasm::RequestBuilder::body(!request, $0)\"')"
   ]
  },
  {
   "cell_type": "markdown",
   "metadata": {},
   "source": [
    "### request_header"
   ]
  },
  {
   "cell_type": "code",
   "execution_count": null,
   "metadata": {
    "dotnet_interactive": {
     "language": "spiral"
    },
    "polyglot_notebook": {
     "kernelName": "spiral"
    }
   },
   "outputs": [],
   "source": [
    "inl request_header (key : string) (value : string) (request : request_builder) : request_builder =\n",
    "    inl request = join request\n",
    "    inl key = key |> sm'.to_std_string\n",
    "    inl value = value |> sm'.to_std_string\n",
    "    !\\\\((key, value), $'\"reqwest_wasm::RequestBuilder::header(!request, $0, $1)\"')"
   ]
  },
  {
   "cell_type": "markdown",
   "metadata": {},
   "source": [
    "### request_json"
   ]
  },
  {
   "cell_type": "code",
   "execution_count": null,
   "metadata": {
    "dotnet_interactive": {
     "language": "spiral"
    },
    "polyglot_notebook": {
     "kernelName": "spiral"
    }
   },
   "outputs": [],
   "source": [
    "inl request_json forall t. (obj : t) (request : request_builder) : request_builder =\n",
    "    !\\($'\"reqwest_wasm::RequestBuilder::json(!request, &!obj)\"')"
   ]
  },
  {
   "cell_type": "markdown",
   "metadata": {},
   "source": [
    "### response_text"
   ]
  },
  {
   "cell_type": "code",
   "execution_count": null,
   "metadata": {
    "dotnet_interactive": {
     "language": "spiral"
    },
    "polyglot_notebook": {
     "kernelName": "spiral"
    }
   },
   "outputs": [],
   "source": [
    "inl response_text (response : reqwest_response) : async.future_pin (resultm.result' sm'.std_string reqwest_error) =\n",
    "    !\\($'\"Box::pin(reqwest_wasm::Response::text(!response))\"')"
   ]
  },
  {
   "cell_type": "markdown",
   "metadata": {},
   "source": [
    "## fsharp"
   ]
  },
  {
   "cell_type": "markdown",
   "metadata": {},
   "source": [
    "### tcp_client"
   ]
  },
  {
   "cell_type": "code",
   "execution_count": null,
   "metadata": {
    "dotnet_interactive": {
     "language": "spiral"
    },
    "polyglot_notebook": {
     "kernelName": "spiral"
    }
   },
   "outputs": [],
   "source": [
    "nominal tcp_client =\n",
    "    `(\n",
    "        global \"#if FABLE_COMPILER\\n\\ntype System_Net_Sockets_TcpClient = System.IDisposable\\n#else\\ntype System_Net_Sockets_TcpClient = System.Net.Sockets.TcpClient\\n#endif\\n\"\n",
    "        $'' : $'System_Net_Sockets_TcpClient'\n",
    "    )"
   ]
  },
  {
   "cell_type": "markdown",
   "metadata": {},
   "source": [
    "### new_tcp_client"
   ]
  },
  {
   "cell_type": "code",
   "execution_count": null,
   "metadata": {
    "dotnet_interactive": {
     "language": "spiral"
    },
    "polyglot_notebook": {
     "kernelName": "spiral"
    }
   },
   "outputs": [],
   "source": [
    "inl new_tcp_client () : tcp_client =\n",
    "    run_target function\n",
    "        | Fsharp (Native) => fun () => $'new `tcp_client ()'\n",
    "        | _ => fun () => null ()"
   ]
  },
  {
   "cell_type": "markdown",
   "metadata": {},
   "source": [
    "### ip_address"
   ]
  },
  {
   "cell_type": "code",
   "execution_count": null,
   "metadata": {
    "dotnet_interactive": {
     "language": "spiral"
    },
    "polyglot_notebook": {
     "kernelName": "spiral"
    }
   },
   "outputs": [],
   "source": [
    "nominal ip_address = $'System.Net.IPAddress'"
   ]
  },
  {
   "cell_type": "markdown",
   "metadata": {},
   "source": [
    "### ip_address_parse"
   ]
  },
  {
   "cell_type": "code",
   "execution_count": null,
   "metadata": {
    "dotnet_interactive": {
     "language": "spiral"
    },
    "polyglot_notebook": {
     "kernelName": "spiral"
    }
   },
   "outputs": [],
   "source": [
    "inl ip_address_parse (s : string) : ip_address =\n",
    "    s |> $'`ip_address.Parse'"
   ]
  },
  {
   "cell_type": "markdown",
   "metadata": {},
   "source": [
    "### tcp_listener"
   ]
  },
  {
   "cell_type": "code",
   "execution_count": null,
   "metadata": {
    "dotnet_interactive": {
     "language": "spiral"
    },
    "polyglot_notebook": {
     "kernelName": "spiral"
    }
   },
   "outputs": [],
   "source": [
    "nominal tcp_listener = $'System.Net.Sockets.TcpListener'"
   ]
  },
  {
   "cell_type": "markdown",
   "metadata": {},
   "source": [
    "### new_tcp_listener"
   ]
  },
  {
   "cell_type": "code",
   "execution_count": null,
   "metadata": {
    "dotnet_interactive": {
     "language": "spiral"
    },
    "polyglot_notebook": {
     "kernelName": "spiral"
    }
   },
   "outputs": [],
   "source": [
    "inl new_tcp_listener (ip_address : ip_address) (port : i32) : tcp_listener =\n",
    "    $'new `tcp_listener (!ip_address, !port)'"
   ]
  },
  {
   "cell_type": "markdown",
   "metadata": {},
   "source": [
    "### listener_start"
   ]
  },
  {
   "cell_type": "code",
   "execution_count": null,
   "metadata": {
    "dotnet_interactive": {
     "language": "spiral"
    },
    "polyglot_notebook": {
     "kernelName": "spiral"
    }
   },
   "outputs": [],
   "source": [
    "inl listener_start (listener : tcp_listener) : () =\n",
    "    listener |> $'_.Start()'"
   ]
  },
  {
   "cell_type": "markdown",
   "metadata": {},
   "source": [
    "### listener_stop"
   ]
  },
  {
   "cell_type": "code",
   "execution_count": null,
   "metadata": {
    "dotnet_interactive": {
     "language": "spiral"
    },
    "polyglot_notebook": {
     "kernelName": "spiral"
    }
   },
   "outputs": [],
   "source": [
    "inl listener_stop (listener : tcp_listener) : () =\n",
    "    listener |> $'_.Stop()'"
   ]
  },
  {
   "cell_type": "markdown",
   "metadata": {},
   "source": [
    "### client_connect_async"
   ]
  },
  {
   "cell_type": "code",
   "execution_count": null,
   "metadata": {
    "dotnet_interactive": {
     "language": "spiral"
    },
    "polyglot_notebook": {
     "kernelName": "spiral"
    }
   },
   "outputs": [],
   "source": [
    "inl client_connect_async\n",
    "    (host : string)\n",
    "    (port : i32)\n",
    "    (ct : threading.cancellation_token)\n",
    "    (client : tcp_client)\n",
    "    : async.value_task\n",
    "    =\n",
    "    run_target function\n",
    "        | Fsharp (Native) => fun () => $'!client.ConnectAsync (!host, !port, !ct)'\n",
    "        | _ => fun () => null ()"
   ]
  },
  {
   "cell_type": "markdown",
   "metadata": {},
   "source": [
    "### test_port_open"
   ]
  },
  {
   "cell_type": "code",
   "execution_count": null,
   "metadata": {
    "dotnet_interactive": {
     "language": "spiral"
    },
    "polyglot_notebook": {
     "kernelName": "spiral"
    }
   },
   "outputs": [],
   "source": [
    "let test_port_open host port : _ bool = async.new_async fun () =>\n",
    "    inl ct = async.cancellation_token () |> async.let'\n",
    "    inl client = new_tcp_client () |> use\n",
    "    try_unit\n",
    "        fun () =>\n",
    "            client |> client_connect_async host port ct |> async.await_value_task_unit |> async.do\n",
    "            return true\n",
    "        fun ex =>\n",
    "            trace Verbose\n",
    "                fun () => \"networking.test_port_open\"\n",
    "                fun () => { port ex = ex () |> sm'.format_exception }\n",
    "            return false"
   ]
  },
  {
   "cell_type": "code",
   "execution_count": null,
   "metadata": {
    "dotnet_interactive": {
     "language": "spiral"
    },
    "polyglot_notebook": {
     "kernelName": "spiral"
    }
   },
   "outputs": [
    {
     "name": "stdout",
     "output_type": "stream",
     "text": [
      "00:00:00 \u001B[90mv\u001B[0m #1 networking.test_port_open / { port = 65536; ex = System.ArgumentOutOfRangeException: Specified argument was out of the range of valid values. (Parameter 'port') }\n",
      "__assert_eq / actual: US6_0 false / expected: US6_0 false\n"
     ]
    }
   ],
   "source": [
    "//// test\n",
    "\n",
    "test_port_open \"127.0.0.1\" 65536\n",
    "|> async.run_with_timeout 120\n",
    "|> _assert_eq (Some false)"
   ]
  },
  {
   "cell_type": "markdown",
   "metadata": {},
   "source": [
    "### test_port_open_timeout"
   ]
  },
  {
   "cell_type": "code",
   "execution_count": null,
   "metadata": {
    "dotnet_interactive": {
     "language": "spiral"
    },
    "polyglot_notebook": {
     "kernelName": "spiral"
    }
   },
   "outputs": [],
   "source": [
    "let test_port_open_timeout timeout host port : _ bool = async.new_async_unit fun () =>\n",
    "    test_port_open host port\n",
    "    |> async.run_with_timeout_async timeout\n",
    "    |> async.let'\n",
    "    |> function\n",
    "        | None => false\n",
    "        | Some result => result\n",
    "    |> return"
   ]
  },
  {
   "cell_type": "code",
   "execution_count": null,
   "metadata": {
    "dotnet_interactive": {
     "language": "spiral"
    },
    "polyglot_notebook": {
     "kernelName": "spiral"
    }
   },
   "outputs": [
    {
     "name": "stdout",
     "output_type": "stream",
     "text": [
      "00:00:00 \u001B[90mv\u001B[0m #1 async.run_with_timeout_async / { timeout = 120 }\n",
      "__assert_eq / actual: false / expected: false\n"
     ]
    }
   ],
   "source": [
    "//// test\n",
    "\n",
    "test_port_open_timeout 120 \"127.0.0.1\" 65535\n",
    "|> async.run_synchronously\n",
    "|> _assert_eq false"
   ]
  },
  {
   "cell_type": "markdown",
   "metadata": {},
   "source": [
    "### wait_for_port_access"
   ]
  },
  {
   "cell_type": "code",
   "execution_count": null,
   "metadata": {
    "dotnet_interactive": {
     "language": "spiral"
    },
    "polyglot_notebook": {
     "kernelName": "spiral"
    }
   },
   "outputs": [],
   "source": [
    "let wait_for_port_access timeout status host port : _ i64 =\n",
    "    let rec loop retry : _ i64 =\n",
    "        fun () =>\n",
    "            inl is_port_open =\n",
    "                match timeout |> optionm'.unbox with\n",
    "                | None => test_port_open host port\n",
    "                | Some timeout => test_port_open_timeout timeout host port\n",
    "                |> async.let'\n",
    "            fix_condition\n",
    "                fun () => is_port_open = status\n",
    "                fun () => retry |> return\n",
    "                fun () =>\n",
    "                    if retry % 100 = 0 then\n",
    "                        trace Verbose\n",
    "                            fun () => \"networking.wait_for_port_access\"\n",
    "                            fun () => { port retry timeout status }\n",
    "                    async.sleep 10 |> async.do\n",
    "                    loop (retry + 1) |> async.return_await\n",
    "        |> async.new_async_unit\n",
    "    loop 1i64"
   ]
  },
  {
   "cell_type": "code",
   "execution_count": null,
   "metadata": {
    "dotnet_interactive": {
     "language": "spiral"
    },
    "polyglot_notebook": {
     "kernelName": "spiral"
    }
   },
   "outputs": [
    {
     "name": "stdout",
     "output_type": "stream",
     "text": [
      "00:00:00 \u001B[94md\u001B[0m #1 1\n",
      "00:00:00 \u001B[94md\u001B[0m #2 _1\n",
      "00:00:00 \u001B[94md\u001B[0m #3 2\n",
      "00:00:00 \u001B[94md\u001B[0m #4 3\n",
      "00:00:02 \u001B[90mv\u001B[0m #5 networking.test_port_open / { port = 5555; ex = System.AggregateException: One or more errors occurred. (No connection could be made because the target machine actively refused it.) }\n",
      "00:00:04 \u001B[90mv\u001B[0m #6 networking.test_port_open / { port = 5555; ex = System.AggregateException: One or more errors occurred. (No connection could be made because the target machine actively refused it.) }\n",
      "00:00:05 \u001B[94md\u001B[0m #7 _2\n",
      "00:00:05 \u001B[94md\u001B[0m #8 _3\n",
      "00:00:05 \u001B[94md\u001B[0m #9 4\n",
      "00:00:06 \u001B[90mv\u001B[0m #10 networking.wait_for_port_access / { port = 5555; retry = 100; timeout = None; status = false }\n",
      "00:00:07 \u001B[94md\u001B[0m #11 _4\n",
      "00:00:07 \u001B[94md\u001B[0m #12 _5\n",
      "00:00:09 \u001B[90mv\u001B[0m #13 networking.test_port_open / { port = 5555; ex = System.AggregateException: One or more errors occurred. (No connection could be made because the target machine actively refused it.) }\n",
      "00:00:09 \u001B[94md\u001B[0m #14 5\n",
      "00:00:09 \u001B[94md\u001B[0m #15 6\n",
      "__assert_between / actual: 3L / expected: struct (2L, 5L)\n",
      "__assert_between / actual: 119L / expected: struct (80L, 200L)\n",
      "__assert_eq / actual: true / expected: true\n"
     ]
    }
   ],
   "source": [
    "//// test\n",
    "\n",
    "inl lock_port host port = async.new_async fun () =>\n",
    "    trace Debug (fun () => \"_1\") id\n",
    "    async.sleep 5000 |> async.do\n",
    "    inl listener = new_tcp_listener (host |> ip_address_parse) port |> use\n",
    "    trace Debug (fun () => \"_2\") id\n",
    "    listener |> listener_start\n",
    "    trace Debug (fun () => \"_3\") id\n",
    "    async.sleep 2000 |> async.do\n",
    "    trace Debug (fun () => \"_4\") id\n",
    "    $'!listener.Stop' ()\n",
    "    trace Debug (fun () => \"_5\") id\n",
    "\n",
    "inl host = \"127.0.0.1\"\n",
    "inl port = 5555i32\n",
    "\n",
    "fun () =>\n",
    "    trace Debug (fun () => \"1\") id\n",
    "    inl child = lock_port host port |> async.start_child |> async.let'\n",
    "    trace Debug (fun () => \"2\") id\n",
    "    async.sleep 1 |> async.do\n",
    "    trace Debug (fun () => \"3\") id\n",
    "    inl retries1 = wait_for_port_access (None |> optionm'.box) true host port |> async.let'\n",
    "    trace Debug (fun () => \"4\") id\n",
    "    inl retries2 = wait_for_port_access (None |> optionm'.box) false host port |> async.let'\n",
    "    trace Debug (fun () => \"5\") id\n",
    "    child |> async.do\n",
    "    trace Debug (fun () => \"6\") id\n",
    "    (retries1, retries2) |> return\n",
    "|> async.new_async_unit\n",
    "|> async.run_with_timeout 20000\n",
    "|> function\n",
    "    | Some (retries1, retries2) =>\n",
    "        retries1\n",
    "        |> _assert_between\n",
    "            if platform.is_windows () then 2i64 else 2\n",
    "            if platform.is_windows () then 5 else 1500\n",
    "\n",
    "        retries2\n",
    "        |> _assert_between\n",
    "            if platform.is_windows () then 80i64 else 80\n",
    "            if platform.is_windows () then 200 else 600\n",
    "\n",
    "        true\n",
    "    | _ => false\n",
    "|> _assert_eq true"
   ]
  },
  {
   "cell_type": "code",
   "execution_count": null,
   "metadata": {
    "dotnet_interactive": {
     "language": "spiral"
    },
    "polyglot_notebook": {
     "kernelName": "spiral"
    }
   },
   "outputs": [
    {
     "name": "stdout",
     "output_type": "stream",
     "text": [
      "00:00:00 \u001B[94md\u001B[0m #1 1\n",
      "00:00:00 \u001B[94md\u001B[0m #2 2\n",
      "00:00:00 \u001B[94md\u001B[0m #3 _1\n",
      "00:00:00 \u001B[94md\u001B[0m #4 3\n",
      "00:00:00 \u001B[90mv\u001B[0m #5 async.run_with_timeout_async / { timeout = 60 }\n",
      "00:00:00 \u001B[90mv\u001B[0m #6 async.run_with_timeout_async / { timeout = 60 }\n",
      "00:00:00 \u001B[90mv\u001B[0m #7 async.run_with_timeout_async / { timeout = 60 }\n",
      "00:00:00 \u001B[90mv\u001B[0m #8 async.run_with_timeout_async / { timeout = 60 }\n",
      "00:00:00 \u001B[90mv\u001B[0m #9 async.run_with_timeout_async / { timeout = 60 }\n",
      "00:00:00 \u001B[94md\u001B[0m #10 _2\n",
      "00:00:00 \u001B[90mv\u001B[0m #11 async.run_with_timeout_async / { timeout = 60 }\n",
      "00:00:00 \u001B[94md\u001B[0m #12 _3\n",
      "00:00:00 \u001B[94md\u001B[0m #13 4\n",
      "00:00:00 \u001B[94md\u001B[0m #14 _4\n",
      "00:00:00 \u001B[94md\u001B[0m #15 _5\n",
      "00:00:00 \u001B[90mv\u001B[0m #16 async.run_with_timeout_async / { timeout = 60 }\n",
      "00:00:00 \u001B[94md\u001B[0m #17 5\n",
      "00:00:00 \u001B[94md\u001B[0m #18 6\n",
      "__assert_between / actual: 7L / expected: struct (4L, 15L)\n",
      "__assert_between / actual: 14L / expected: struct (5L, 20L)\n",
      "__assert_eq / actual: true / expected: true\n"
     ]
    }
   ],
   "source": [
    "//// test\n",
    "\n",
    "inl lock_port host port = async.new_async_unit fun () =>\n",
    "    trace Debug (fun () => \"_1\") id\n",
    "    async.sleep 500 |> async.do\n",
    "    inl listener = new_tcp_listener (ip_address_parse host) port |> use\n",
    "    trace Debug (fun () => \"_2\") id\n",
    "    listener |> listener_start\n",
    "    trace Debug (fun () => \"_3\") id\n",
    "    async.sleep 200 |> async.do\n",
    "    trace Debug (fun () => \"_4\") id\n",
    "    listener |> listener_stop\n",
    "    trace Debug (fun () => \"_5\") id\n",
    "\n",
    "inl host = \"127.0.0.1\"\n",
    "inl port = 5555\n",
    "\n",
    "fun () =>\n",
    "    trace Debug (fun () => \"1\") id\n",
    "    inl child = lock_port host port |> async.start_child |> async.let'\n",
    "    trace Debug (fun () => \"2\") id\n",
    "    async.sleep 1 |> async.do\n",
    "    trace Debug (fun () => \"3\") id\n",
    "    inl retries1 = wait_for_port_access (Some 60 |> optionm'.box) true host port |> async.let'\n",
    "    trace Debug (fun () => \"4\") id\n",
    "    inl retries2 = wait_for_port_access (Some 60 |> optionm'.box) false host port |> async.let'\n",
    "    trace Debug (fun () => \"5\") id\n",
    "    child |> async.do\n",
    "    trace Debug (fun () => \"6\") id\n",
    "    (retries1, retries2) |> return\n",
    "|> async.new_async_unit\n",
    "|> async.run_with_timeout 2000\n",
    "|> function\n",
    "    | Some (retries1, retries2) =>\n",
    "        retries1\n",
    "        |> _assert_between\n",
    "            if platform.is_windows () then 4i64 else 2\n",
    "            if platform.is_windows () then 15 else 150\n",
    "\n",
    "        retries2\n",
    "        |> _assert_between\n",
    "            if platform.is_windows () then 5i64 else 0\n",
    "            if platform.is_windows () then 20 else 60\n",
    "\n",
    "        true\n",
    "    | _ => false\n",
    "|> _assert_eq true"
   ]
  },
  {
   "cell_type": "markdown",
   "metadata": {},
   "source": [
    "### get_available_port"
   ]
  },
  {
   "cell_type": "code",
   "execution_count": null,
   "metadata": {
    "dotnet_interactive": {
     "language": "spiral"
    },
    "polyglot_notebook": {
     "kernelName": "spiral"
    }
   },
   "outputs": [],
   "source": [
    "let get_available_port timeout host initial_port : _ i32 =\n",
    "    let rec loop port =\n",
    "        fun () =>\n",
    "            inl is_port_open =\n",
    "                match timeout |> optionm'.unbox with\n",
    "                | None => test_port_open host port\n",
    "                | Some timeout => test_port_open_timeout timeout host port\n",
    "                |> async.let'\n",
    "            fix_condition\n",
    "                fun () => is_port_open |> not\n",
    "                fun () => port |> return\n",
    "                fun () => loop (port + 1) |> async.return_await\n",
    "        |> async.new_async_unit\n",
    "    loop initial_port"
   ]
  },
  {
   "cell_type": "code",
   "execution_count": null,
   "metadata": {
    "dotnet_interactive": {
     "language": "spiral"
    },
    "polyglot_notebook": {
     "kernelName": "spiral"
    }
   },
   "outputs": [
    {
     "name": "stdout",
     "output_type": "stream",
     "text": [
      "00:00:00 \u001B[94md\u001B[0m #1 1\n",
      "00:00:00 \u001B[94md\u001B[0m #2 _1\n",
      "00:00:00 \u001B[94md\u001B[0m #3 2\n",
      "00:00:00 \u001B[94md\u001B[0m #4 _2\n",
      "00:00:00 \u001B[94md\u001B[0m #5 _3\n",
      "00:00:00 \u001B[94md\u001B[0m #6 3\n",
      "00:00:02 \u001B[90mv\u001B[0m #7 networking.test_port_open / { port = 5557; ex = System.AggregateException: One or more errors occurred. (No connection could be made because the target machine actively refused it.) }\n",
      "00:00:02 \u001B[94md\u001B[0m #8 4\n",
      "00:00:03 \u001B[90mv\u001B[0m #9 networking.wait_for_port_access / { port = 5555; retry = 100; timeout = None; status = false }\n",
      "00:00:04 \u001B[94md\u001B[0m #10 _4\n",
      "00:00:04 \u001B[94md\u001B[0m #11 _5\n",
      "00:00:06 \u001B[90mv\u001B[0m #12 networking.test_port_open / { port = 5555; ex = System.AggregateException: One or more errors occurred. (No connection could be made because the target machine actively refused it.) }\n",
      "00:00:06 \u001B[94md\u001B[0m #13 5\n",
      "00:00:06 \u001B[94md\u001B[0m #14 6\n",
      "__assert_eq / actual: 5557 / expected: 5557\n",
      "__assert_between / actual: 111L / expected: struct (50L, 150L)\n",
      "__assert_eq / actual: true / expected: true\n"
     ]
    }
   ],
   "source": [
    "//// test\n",
    "\n",
    "inl lock_ports host port = async.new_async_unit fun () =>\n",
    "    trace Debug (fun () => \"_1\") id\n",
    "    inl listener1 = new_tcp_listener (ip_address_parse host) port |> use\n",
    "    inl listener2 = new_tcp_listener (ip_address_parse host) (port + 1) |> use\n",
    "    trace Debug (fun () => \"_2\") id\n",
    "    listener1 |> listener_start\n",
    "    listener2 |> listener_start\n",
    "    trace Debug (fun () => \"_3\") id\n",
    "    async.sleep 4000 |> async.do\n",
    "    trace Debug (fun () => \"_4\") id\n",
    "    listener1 |> listener_stop\n",
    "    listener2 |> listener_stop\n",
    "    trace Debug (fun () => \"_5\") id\n",
    "\n",
    "inl host = \"127.0.0.1\"\n",
    "inl port = 5555\n",
    "\n",
    "fun () =>\n",
    "    trace Debug (fun () => \"1\") id\n",
    "    inl child = lock_ports host port |> async.start_child |> async.let'\n",
    "    trace Debug (fun () => \"2\") id\n",
    "    async.sleep 240 |> async.do\n",
    "    trace Debug (fun () => \"3\") id\n",
    "    inl available_port = get_available_port (None |> optionm'.box) host port |> async.let'\n",
    "    trace Debug (fun () => \"4\") id\n",
    "    inl retries = wait_for_port_access (None |> optionm'.box) false host port |> async.let'\n",
    "    trace Debug (fun () => \"5\") id\n",
    "    child |> async.do\n",
    "    trace Debug (fun () => \"6\") id\n",
    "    (available_port, retries) |> return\n",
    "|> async.new_async_unit\n",
    "|> async.run_with_timeout 15000\n",
    "|> function\n",
    "    | Some (available_port, retries) =>\n",
    "        available_port |> _assert_eq (port + 2)\n",
    "\n",
    "        retries\n",
    "        |> _assert_between\n",
    "            if platform.is_windows () then 50i64 else 50\n",
    "            if platform.is_windows () then 150 else 1200\n",
    "\n",
    "        true\n",
    "    | _ => false\n",
    "|> _assert_eq true"
   ]
  },
  {
   "cell_type": "code",
   "execution_count": null,
   "metadata": {
    "dotnet_interactive": {
     "language": "spiral"
    },
    "polyglot_notebook": {
     "kernelName": "spiral"
    }
   },
   "outputs": [
    {
     "name": "stdout",
     "output_type": "stream",
     "text": [
      "00:00:00 \u001B[94md\u001B[0m #1 1\n",
      "00:00:00 \u001B[94md\u001B[0m #2 2\n",
      "00:00:00 \u001B[94md\u001B[0m #3 _1\n",
      "00:00:00 \u001B[94md\u001B[0m #4 _2\n",
      "00:00:00 \u001B[94md\u001B[0m #5 _3\n",
      "00:00:00 \u001B[94md\u001B[0m #6 3\n",
      "00:00:00 \u001B[90mv\u001B[0m #7 async.run_with_timeout_async / { timeout = 60 }\n",
      "00:00:00 \u001B[94md\u001B[0m #8 4\n",
      "00:00:00 \u001B[94md\u001B[0m #9 _4\n",
      "00:00:00 \u001B[94md\u001B[0m #10 _5\n",
      "00:00:00 \u001B[90mv\u001B[0m #11 async.run_with_timeout_async / { timeout = 60 }\n",
      "00:00:00 \u001B[94md\u001B[0m #12 5\n",
      "00:00:00 \u001B[94md\u001B[0m #13 6\n",
      "__assert_eq / actual: 5557 / expected: 5557\n",
      "__assert_between / actual: 4L / expected: struct (2L, 10L)\n",
      "__assert_eq / actual: true / expected: true\n"
     ]
    }
   ],
   "source": [
    "//// test\n",
    "\n",
    "inl lock_ports host port = async.new_async_unit fun () =>\n",
    "    trace Debug (fun () => \"_1\") id\n",
    "    inl listener1 = new_tcp_listener (ip_address_parse host) port |> use\n",
    "    inl listener2 = new_tcp_listener (ip_address_parse host) (port + 1) |> use\n",
    "    trace Debug (fun () => \"_2\") id\n",
    "    listener1 |> listener_start\n",
    "    listener2 |> listener_start\n",
    "    trace Debug (fun () => \"_3\") id\n",
    "    async.sleep 400 |> async.do\n",
    "    trace Debug (fun () => \"_4\") id\n",
    "    listener1 |> listener_stop\n",
    "    listener2 |> listener_stop\n",
    "    trace Debug (fun () => \"_5\") id\n",
    "\n",
    "inl host = \"127.0.0.1\"\n",
    "inl port = 5555\n",
    "\n",
    "fun () =>\n",
    "    trace Debug (fun () => \"1\") id\n",
    "    inl child = lock_ports host port |> async.start_child |> async.let'\n",
    "    trace Debug (fun () => \"2\") id\n",
    "    async.sleep 240 |> async.do\n",
    "    trace Debug (fun () => \"3\") id\n",
    "    inl available_port = get_available_port (Some 60 |> optionm'.box) host port |> async.let'\n",
    "    trace Debug (fun () => \"4\") id\n",
    "    inl retries = wait_for_port_access (Some 60 |> optionm'.box) false host port |> async.let'\n",
    "    trace Debug (fun () => \"5\") id\n",
    "    child |> async.do\n",
    "    trace Debug (fun () => \"6\") id\n",
    "    (available_port, retries) |> return\n",
    "|> async.new_async_unit\n",
    "|> async.run_with_timeout 1500\n",
    "|> function\n",
    "    | Some (available_port, retries) =>\n",
    "        available_port |> _assert_eq (port + 2)\n",
    "\n",
    "        retries\n",
    "        |> _assert_between\n",
    "            (if platform.is_windows () then 2i64 else 1)\n",
    "            (if platform.is_windows () then 10 else 120)\n",
    "\n",
    "        true\n",
    "    | _ => false\n",
    "|> _assert_eq true"
   ]
  },
  {
   "cell_type": "markdown",
   "metadata": {},
   "source": [
    "## main"
   ]
  },
  {
   "cell_type": "code",
   "execution_count": null,
   "metadata": {
    "dotnet_interactive": {
     "language": "spiral"
    },
    "polyglot_notebook": {
     "kernelName": "spiral"
    }
   },
   "outputs": [],
   "source": [
    "inl main () =\n",
    "    init_trace_state None\n",
    "    $'let test_port_open x = !test_port_open x' : ()\n",
    "    $'let test_port_open_timeout x = !test_port_open_timeout x' : ()\n",
    "    $'let wait_for_port_access x = !wait_for_port_access x' : ()\n",
    "    $'let get_available_port x = !get_available_port x' : ()"
   ]
  }
 ],
 "metadata": {},
 "nbformat": 4,
 "nbformat_minor": 5
}