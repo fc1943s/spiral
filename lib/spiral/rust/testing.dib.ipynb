{
 "cells": [
  {
   "cell_type": "markdown",
   "metadata": {},
   "source": [
    "# rust/testing"
   ]
  },
  {
   "cell_type": "code",
   "execution_count": null,
   "metadata": {
    "dotnet_interactive": {
     "language": "spiral"
    },
    "polyglot_notebook": {
     "kernelName": "spiral"
    }
   },
   "outputs": [],
   "source": [
    "open rust.rust_operators"
   ]
  },
  {
   "cell_type": "code",
   "execution_count": null,
   "metadata": {
    "dotnet_interactive": {
     "language": "spiral"
    },
    "polyglot_notebook": {
     "kernelName": "spiral"
    }
   },
   "outputs": [],
   "source": [
    "//// test\n",
    "\n",
    "open testing"
   ]
  },
  {
   "cell_type": "markdown",
   "metadata": {},
   "source": [
    "### run_tests'"
   ]
  },
  {
   "cell_type": "code",
   "execution_count": null,
   "metadata": {
    "dotnet_interactive": {
     "language": "spiral"
    },
    "polyglot_notebook": {
     "kernelName": "spiral"
    }
   },
   "outputs": [],
   "source": [
    "inl run_tests' tests =\n",
    "    (!\\($'\"true; () //\"') : bool) |> ignore\n",
    "\n",
    "    inl fields = reflection.get_record_fields tests\n",
    "\n",
    "    fields\n",
    "    |> listm.iter fun name, (fn : string -> ()) =>\n",
    "        !\\($'\"} /* /*\"')\n",
    "        (!\\($'$\"*/ \\#[test] fn \" + !name + \"() { //\"') : bool) |> ignore\n",
    "        fn name\n",
    "\n",
    "    fields\n",
    "    |> listm.iter fun _ =>\n",
    "        !\\($'\"{ //\"') : ()"
   ]
  },
  {
   "cell_type": "code",
   "execution_count": null,
   "metadata": {
    "dotnet_interactive": {
     "language": "spiral"
    },
    "polyglot_notebook": {
     "kernelName": "spiral"
    }
   },
   "outputs": [],
   "source": [
    "//// test\n",
    "\n",
    "inl run test =\n",
    "    if env.get_environment_variable \"TEST\" = \"1\"\n",
    "    then ()\n",
    "    else\n",
    "        runtime.execution_options fun x => { x with\n",
    "            command = \"cargo test -- --show-output\"\n",
    "            working_directory = file_system.get_source_directory () |> Some |> optionm'.box\n",
    "            environment_variables = ;[ \"TEST\", \"1\" ]\n",
    "        }\n",
    "        |> runtime.execute_with_options\n",
    "        |> fun exit_code, result =>\n",
    "            exit_code |> _assert_eq 0i32\n",
    "            result |> _assert sm'.contains \"test result: ok. 1 passed; 0 failed; 0 ignored;\"\n",
    "\n",
    "    $'let tests () = !test ()' : ()"
   ]
  },
  {
   "cell_type": "code",
   "execution_count": null,
   "metadata": {
    "dotnet_interactive": {
     "language": "spiral"
    },
    "polyglot_notebook": {
     "kernelName": "spiral"
    }
   },
   "outputs": [
    {
     "data": {
      "text/plain": [
       "00:00:00 \u001B[94md\u001B[39m #1 runtime.execute_with_options / { file_name = cargo; arguments = [\"test\", \"--\", \"--show-output\"]; options = { command = cargo test -- --show-output; cancellation_token = None; environment_variables = Array(MutCell([(\"TEST\", \"1\")])); on_line = None; stdin = None; trace = true; working_directory = Some(\n",
       "    \"c:\\home\\git\\polyglot\\target\\spiral\\spiral\\packages\\Rust\\2f5dbbca8af92f73926964fd3c9ef9483bdd493b485efa1ecc145dab49cda651\",\n",
       "); stderr = true } }\n",
       "00:00:00 \u001B[90mv\u001B[39m #2 ! warning: c:\\home\\git\\polyglot\\target\\spiral\\spiral\\packages\\Rust\\461bea7e409be7ba3c2cee7a290c8cde9b029db415d54c41c7f34d91c3f48762\\Cargo.toml: the cargo feature `edition2024` has been stabilized in the 1.85 release and is no longer necessary to be listed in the manifest\n",
       "00:00:00 \u001B[90mv\u001B[39m #3 !   See https://doc.rust-lang.org/nightly/cargo/reference/manifest.html#the-edition-field for more information about using this feature.\n",
       "00:00:00 \u001B[90mv\u001B[39m #4 ! warning: c:\\home\\git\\polyglot\\target\\spiral\\spiral\\packages\\Rust\\7142616d80c8b782cf50707ee4c8948ee3f731e90d4cc0c224c633d54cbee8e9\\Cargo.toml: the cargo feature `edition2024` has been stabilized in the 1.85 release and is no longer necessary to be listed in the manifest\n",
       "00:00:00 \u001B[90mv\u001B[39m #5 !   See https://doc.rust-lang.org/nightly/cargo/reference/manifest.html#the-edition-field for more information about using this feature.\n",
       "00:00:00 \u001B[90mv\u001B[39m #6 ! warning: c:\\home\\git\\polyglot\\target\\spiral\\spiral\\packages\\Rust\\2f5dbbca8af92f73926964fd3c9ef9483bdd493b485efa1ecc145dab49cda651\\Cargo.toml: the cargo feature `edition2024` has been stabilized in the 1.85 release and is no longer necessary to be listed in the manifest\n",
       "00:00:00 \u001B[90mv\u001B[39m #7 !   See https://doc.rust-lang.org/nightly/cargo/reference/manifest.html#the-edition-field for more information about using this feature.\n",
       "00:00:00 \u001B[90mv\u001B[39m #8 ! warning: c:\\home\\git\\polyglot\\target\\spiral\\spiral\\packages\\Rust\\343f47b466e4604311d0f1ee5f37a5941763fe920c6e5c9af5ed705cd8a433f1\\Cargo.toml: the cargo feature `edition2024` has been stabilized in the 1.85 release and is no longer necessary to be listed in the manifest\n",
       "00:00:00 \u001B[90mv\u001B[39m #9 !   See https://doc.rust-lang.org/nightly/cargo/reference/manifest.html#the-edition-field for more information about using this feature.\n",
       "00:00:00 \u001B[90mv\u001B[39m #10 ! warning: c:\\home\\git\\polyglot\\target\\spiral\\spiral\\packages\\Rust\\aeb66eafd40da5f00e8c3b645db214a0ebf30ec8367e8d067e1d930556f3e012\\Cargo.toml: the cargo feature `edition2024` has been stabilized in the 1.85 release and is no longer necessary to be listed in the manifest\n",
       "00:00:00 \u001B[90mv\u001B[39m #11 !   See https://doc.rust-lang.org/nightly/cargo/reference/manifest.html#the-edition-field for more information about using this feature.\n",
       "00:00:00 \u001B[90mv\u001B[39m #12 ! warning: c:\\home\\git\\polyglot\\target\\spiral\\spiral\\packages\\Rust\\eed3a810df04b18a0d8e0eb6e88ce8019316ded193b573097de07d74f73e315e\\Cargo.toml: the cargo feature `edition2024` has been stabilized in the 1.85 release and is no longer necessary to be listed in the manifest\n",
       "00:00:00 \u001B[90mv\u001B[39m #13 !   See https://doc.rust-lang.org/nightly/cargo/reference/manifest.html#the-edition-field for more information about using this feature.\n",
       "00:00:00 \u001B[90mv\u001B[39m #14 ! warning: c:\\home\\git\\polyglot\\target\\spiral\\spiral\\packages\\Rust\\54a59ba5e435b8664c19b43539349011f5847bce29db5893c6b58e2f4c95074a\\Cargo.toml: the cargo feature `edition2024` has been stabilized in the 1.85 release and is no longer necessary to be listed in the manifest\n",
       "00:00:00 \u001B[90mv\u001B[39m #15 !   See https://doc.rust-lang.org/nightly/cargo/reference/manifest.html#the-edition-field for more information about using this feature.\n",
       "00:00:00 \u001B[90mv\u001B[39m #16 ! warning: c:\\home\\git\\polyglot\\target\\spiral\\spiral\\packages\\Rust\\af546066492a7eb0b2f6972d227da7f3a635f5ec88145b21ff21530be521e50d\\Cargo.toml: the cargo feature `edition2024` has been stabilized in the 1.85 release and is no longer necessary to be listed in the manifest\n",
       "00:00:00 \u001B[90mv\u001B[39m #17 !   See https://doc.rust-lang.org/nightly/cargo/reference/manifest.html#the-edition-field for more information about using this feature.\n",
       "00:00:00 \u001B[90mv\u001B[39m #18 ! warning: c:\\home\\git\\polyglot\\target\\spiral\\spiral\\packages\\Rust\\e596bfc9c6410bf92c6cfc14dde70aa61fff51f016c5841e92693b6a655f2623\\Cargo.toml: the cargo feature `edition2024` has been stabilized in the 1.85 release and is no longer necessary to be listed in the manifest\n",
       "00:00:00 \u001B[90mv\u001B[39m #19 !   See https://doc.rust-lang.org/nightly/cargo/reference/manifest.html#the-edition-field for more information about using this feature.\n",
       "00:00:00 \u001B[90mv\u001B[39m #20 ! warning: c:\\home\\git\\polyglot\\target\\spiral\\spiral\\packages\\Rust\\be0b8fb3cf28b72608e4d0ee4fd216db5e77341ea1b2c9b12b2e3dedcd4c2301\\Cargo.toml: the cargo feature `edition2024` has been stabilized in the 1.85 release and is no longer necessary to be listed in the manifest\n",
       "00:00:00 \u001B[90mv\u001B[39m #21 !   See https://doc.rust-lang.org/nightly/cargo/reference/manifest.html#the-edition-field for more information about using this feature.\n",
       "00:00:00 \u001B[90mv\u001B[39m #22 !    Compiling spiral_2f5dbbca8af92f73926964fd3c9ef9483bdd493b485efa1ecc145dab49cda651 v0.0.1 (C:\\home\\git\\polyglot\\target\\spiral\\spiral\\packages\\Rust\\2f5dbbca8af92f73926964fd3c9ef9483bdd493b485efa1ecc145dab49cda651)\n",
       "00:00:01 \u001B[90mv\u001B[39m #23 !     Finished `test` profile [unoptimized + debuginfo] target(s) in 1.21s\n",
       "00:00:01 \u001B[90mv\u001B[39m #24 !      Running unittests spiral.rs (c:\\home\\git\\polyglot\\target\\spiral\\spiral\\target\\debug\\deps\\spiral_2f5dbbca8af92f73926964fd3c9ef9483bdd493b485efa1ecc145dab49cda651-e0a4c141a083ac49.exe)\n",
       "00:00:01 \u001B[90mv\u001B[39m #25 >\n",
       "00:00:01 \u001B[90mv\u001B[39m #26 > running 1 test\n",
       "00:00:01 \u001B[90mv\u001B[39m #27 > test module_96d202d7::Spiral::a ... ok\n",
       "00:00:01 \u001B[90mv\u001B[39m #28 >\n",
       "00:00:01 \u001B[90mv\u001B[39m #29 > successes:\n",
       "00:00:01 \u001B[90mv\u001B[39m #30 >\n",
       "00:00:01 \u001B[90mv\u001B[39m #31 > ---- module_96d202d7::Spiral::a stdout ----\n",
       "00:00:01 \u001B[90mv\u001B[39m #32 > { name = __assert_eq; actual = a; expected = a }\n",
       "00:00:01 \u001B[90mv\u001B[39m #33 >\n",
       "00:00:01 \u001B[90mv\u001B[39m #34 >\n",
       "00:00:01 \u001B[90mv\u001B[39m #35 > successes:\n",
       "00:00:01 \u001B[90mv\u001B[39m #36 >     module_96d202d7::Spiral::a\n",
       "00:00:01 \u001B[90mv\u001B[39m #37 >\n",
       "00:00:01 \u001B[90mv\u001B[39m #38 > test result: ok. 1 passed; 0 failed; 0 ignored; 0 measured; 0 filtered out; finished in 0.00s\n",
       "00:00:01 \u001B[90mv\u001B[39m #39 >\n",
       "00:00:01 \u001B[90mv\u001B[39m #40 runtime.execute_with_options / result / { exit_code = 0; std_trace_length = 5056 }\n",
       "{ name = __assert_eq; actual = 0; expected = 0 }\n",
       "{ name = __assert; actual = test result: ok. 1 passed; 0 failed; 0 ignored;; expected = \u001B[4;7mwarning: c:\\home\\git\\polyglot\\target\\spiral\\spiral\\packages\\Rust\\461bea7e409be7ba3c2cee7a290c8cde9b029db415d54c41c7f34d91c3f48762\\Cargo.toml: the cargo feature `edition2024` has been stabilized in the 1.85 release and is no longer necessary to be listed in the manifest\u001B[0m\n",
       "\u001B[4;7m  See https://doc.rust-lang.org/nightly/cargo/reference/manifest.html#the-edition-field for more information about using this feature.\u001B[0m\n",
       "\u001B[4;7mwarning: c:\\home\\git\\polyglot\\target\\spiral\\spiral\\packages\\Rust\\7142616d80c8b782cf50707ee4c8948ee3f731e90d4cc0c224c633d54cbee8e9\\Cargo.toml: the cargo feature `edition2024` has been stabilized in the 1.85 release and is no longer necessary to be listed in the manifest\u001B[0m\n",
       "\u001B[4;7m  See https://doc.rust-lang.org/nightly/cargo/reference/manifest.html#the-edition-field for more information about using this feature.\u001B[0m\n",
       "\u001B[4;7mwarning: c:\\home\\git\\polyglot\\target\\spiral\\spiral\\packages\\Rust\\2f5dbbca8af92f73926964fd3c9ef9483bdd493b485efa1ecc145dab49cda651\\Cargo.toml: the cargo feature `edition2024` has been stabilized in the 1.85 release and is no longer necessary to be listed in the manifest\u001B[0m\n",
       "\u001B[4;7m  See https://doc.rust-lang.org/nightly/cargo/reference/manifest.html#the-edition-field for more information about using this feature.\u001B[0m\n",
       "\u001B[4;7mwarning: c:\\home\\git\\polyglot\\target\\spiral\\spiral\\packages\\Rust\\343f47b466e4604311d0f1ee5f37a5941763fe920c6e5c9af5ed705cd8a433f1\\Cargo.toml: the cargo feature `edition2024` has been stabilized in the 1.85 release and is no longer necessary to be listed in the manifest\u001B[0m\n",
       "\u001B[4;7m  See https://doc.rust-lang.org/nightly/cargo/reference/manifest.html#the-edition-field for more information about using this feature.\u001B[0m\n",
       "\u001B[4;7mwarning: c:\\home\\git\\polyglot\\target\\spiral\\spiral\\packages\\Rust\\aeb66eafd40da5f00e8c3b645db214a0ebf30ec8367e8d067e1d930556f3e012\\Cargo.toml: the cargo feature `edition2024` has been stabilized in the 1.85 release and is no longer necessary to be listed in the manifest\u001B[0m\n",
       "\u001B[4;7m  See https://doc.rust-lang.org/nightly/cargo/reference/manifest.html#the-edition-field for more information about using this feature.\u001B[0m\n",
       "\u001B[4;7mwarning: c:\\home\\git\\polyglot\\target\\spiral\\spiral\\packages\\Rust\\eed3a810df04b18a0d8e0eb6e88ce8019316ded193b573097de07d74f73e315e\\Cargo.toml: the cargo feature `edition2024` has been stabilized in the 1.85 release and is no longer necessary to be listed in the manifest\u001B[0m\n",
       "\u001B[4;7m  See https://doc.rust-lang.org/nightly/cargo/reference/manifest.html#the-edition-field for more information about using this feature.\u001B[0m\n",
       "\u001B[4;7mwarning: c:\\home\\git\\polyglot\\target\\spiral\\spiral\\packages\\Rust\\54a59ba5e435b8664c19b43539349011f5847bce29db5893c6b58e2f4c95074a\\Cargo.toml: the cargo feature `edition2024` has been stabilized in the 1.85 release and is no longer necessary to be listed in the manifest\u001B[0m\n",
       "\u001B[4;7m  See https://doc.rust-lang.org/nightly/cargo/reference/manifest.html#the-edition-field for more information about using this feature.\u001B[0m\n",
       "\u001B[4;7mwarning: c:\\home\\git\\polyglot\\target\\spiral\\spiral\\packages\\Rust\\af546066492a7eb0b2f6972d227da7f3a635f5ec88145b21ff21530be521e50d\\Cargo.toml: the cargo feature `edition2024` has been stabilized in the 1.85 release and is no longer necessary to be listed in the manifest\u001B[0m\n",
       "\u001B[4;7m  See https://doc.rust-lang.org/nightly/cargo/reference/manifest.html#the-edition-field for more information about using this feature.\u001B[0m\n",
       "\u001B[4;7mwarning: c:\\home\\git\\polyglot\\target\\spiral\\spiral\\packages\\Rust\\e596bfc9c6410bf92c6cfc14dde70aa61fff51f016c5841e92693b6a655f2623\\Cargo.toml: the cargo feature `edition2024` has been stabilized in the 1.85 release and is no longer necessary to be listed in the manifest\u001B[0m\n",
       "\u001B[4;7m  See https://doc.rust-lang.org/nightly/cargo/reference/manifest.html#the-edition-field for more information about using this feature.\u001B[0m\n",
       "\u001B[4;7mwarning: c:\\home\\git\\polyglot\\target\\spiral\\spiral\\packages\\Rust\\be0b8fb3cf28b72608e4d0ee4fd216db5e77341ea1b2c9b12b2e3dedcd4c2301\\Cargo.toml: the cargo feature `edition2024` has been stabilized in the 1.85 release and is no longer necessary to be listed in the manifest\u001B[0m\n",
       "\u001B[4;7m  See https://doc.rust-lang.org/nightly/cargo/reference/manifest.html#the-edition-field for more information about using this feature.\u001B[0m\n",
       "\u001B[4;7m   Compiling spiral_2f5dbbca8af92f73926964fd3c9ef9483bdd493b485efa1ecc145dab49cda651 v0.0.1 (C:\\home\\git\\polyglot\\target\\spiral\\spiral\\packages\\Rust\\2f5dbbca8af92f73926964fd3c9ef9483bdd493b485efa1ecc145dab49cda651)\u001B[0m\n",
       "\u001B[4;7m    Finished `test` profile [unoptimized + debuginfo] target(s) in 1.21s\u001B[0m\n",
       "\u001B[4;7m     Running unittests spiral.rs (c:\\home\\git\\polyglot\\target\\spiral\\spiral\\target\\debug\\deps\\spiral_2f5dbbca8af92f73926964fd3c9ef9483bdd493b485efa1ecc145dab49cda651-e0a4c141a083ac49.exe)\u001B[0m\n",
       "\n",
       "running 1 test\n",
       "test module_96d202d7::Spiral::a ... ok\n",
       "\n",
       "successes:\n",
       "\n",
       "---- module_96d202d7::Spiral::a stdout ----\n",
       "{ name = __assert_eq; actual = a; expected = a }\n",
       "\n",
       "\n",
       "successes:\n",
       "    module_96d202d7::Spiral::a\n",
       "\n",
       "test result: ok. 1 passed; 0 failed; 0 ignored; 0 measured; 0 filtered out; finished in 0.00s\n",
       " }\n"
      ]
     },
     "metadata": {},
     "output_type": "display_data"
    }
   ],
   "source": [
    "//// test\n",
    "///! rust -d encoding_rs encoding_rs_io\n",
    "\n",
    "fun () =>\n",
    "    run_tests' {\n",
    "        a = _assert_eq \"a\"\n",
    "    }\n",
    "|> run"
   ]
  },
  {
   "cell_type": "markdown",
   "metadata": {},
   "source": [
    "### run_tests"
   ]
  },
  {
   "cell_type": "code",
   "execution_count": null,
   "metadata": {
    "dotnet_interactive": {
     "language": "spiral"
    },
    "polyglot_notebook": {
     "kernelName": "spiral"
    }
   },
   "outputs": [],
   "source": [
    "inl run_tests tests : () =\n",
    "    real\n",
    "        inl tests =\n",
    "            real_core.record_map\n",
    "                fun { key value } =>\n",
    "                    (fun _ => value ()) : string -> ()\n",
    "                tests\n",
    "        run_tests' `(`tests) tests"
   ]
  },
  {
   "cell_type": "code",
   "execution_count": null,
   "metadata": {
    "dotnet_interactive": {
     "language": "spiral"
    },
    "polyglot_notebook": {
     "kernelName": "spiral"
    }
   },
   "outputs": [
    {
     "data": {
      "text/plain": [
       "00:00:00 \u001B[94md\u001B[39m #1 runtime.execute_with_options / { file_name = cargo; arguments = [\"test\", \"--\", \"--show-output\"]; options = { command = cargo test -- --show-output; cancellation_token = None; environment_variables = Array(MutCell([(\"TEST\", \"1\")])); on_line = None; stdin = None; trace = true; working_directory = Some(\n",
       "    \"c:\\home\\git\\polyglot\\target\\spiral\\spiral\\packages\\Rust\\2f5dbbca8af92f73926964fd3c9ef9483bdd493b485efa1ecc145dab49cda651\",\n",
       "); stderr = true } }\n",
       "00:00:00 \u001B[90mv\u001B[39m #2 ! warning: c:\\home\\git\\polyglot\\target\\spiral\\spiral\\packages\\Rust\\461bea7e409be7ba3c2cee7a290c8cde9b029db415d54c41c7f34d91c3f48762\\Cargo.toml: the cargo feature `edition2024` has been stabilized in the 1.85 release and is no longer necessary to be listed in the manifest\n",
       "00:00:00 \u001B[90mv\u001B[39m #3 !   See https://doc.rust-lang.org/nightly/cargo/reference/manifest.html#the-edition-field for more information about using this feature.\n",
       "00:00:00 \u001B[90mv\u001B[39m #4 ! warning: c:\\home\\git\\polyglot\\target\\spiral\\spiral\\packages\\Rust\\54a59ba5e435b8664c19b43539349011f5847bce29db5893c6b58e2f4c95074a\\Cargo.toml: the cargo feature `edition2024` has been stabilized in the 1.85 release and is no longer necessary to be listed in the manifest\n",
       "00:00:00 \u001B[90mv\u001B[39m #5 !   See https://doc.rust-lang.org/nightly/cargo/reference/manifest.html#the-edition-field for more information about using this feature.\n",
       "00:00:00 \u001B[90mv\u001B[39m #6 ! warning: c:\\home\\git\\polyglot\\target\\spiral\\spiral\\packages\\Rust\\e596bfc9c6410bf92c6cfc14dde70aa61fff51f016c5841e92693b6a655f2623\\Cargo.toml: the cargo feature `edition2024` has been stabilized in the 1.85 release and is no longer necessary to be listed in the manifest\n",
       "00:00:00 \u001B[90mv\u001B[39m #7 !   See https://doc.rust-lang.org/nightly/cargo/reference/manifest.html#the-edition-field for more information about using this feature.\n",
       "00:00:00 \u001B[90mv\u001B[39m #8 ! warning: c:\\home\\git\\polyglot\\target\\spiral\\spiral\\packages\\Rust\\eed3a810df04b18a0d8e0eb6e88ce8019316ded193b573097de07d74f73e315e\\Cargo.toml: the cargo feature `edition2024` has been stabilized in the 1.85 release and is no longer necessary to be listed in the manifest\n",
       "00:00:00 \u001B[90mv\u001B[39m #9 !   See https://doc.rust-lang.org/nightly/cargo/reference/manifest.html#the-edition-field for more information about using this feature.\n",
       "00:00:00 \u001B[90mv\u001B[39m #10 ! warning: c:\\home\\git\\polyglot\\target\\spiral\\spiral\\packages\\Rust\\343f47b466e4604311d0f1ee5f37a5941763fe920c6e5c9af5ed705cd8a433f1\\Cargo.toml: the cargo feature `edition2024` has been stabilized in the 1.85 release and is no longer necessary to be listed in the manifest\n",
       "00:00:00 \u001B[90mv\u001B[39m #11 !   See https://doc.rust-lang.org/nightly/cargo/reference/manifest.html#the-edition-field for more information about using this feature.\n",
       "00:00:00 \u001B[90mv\u001B[39m #12 ! warning: c:\\home\\git\\polyglot\\target\\spiral\\spiral\\packages\\Rust\\aeb66eafd40da5f00e8c3b645db214a0ebf30ec8367e8d067e1d930556f3e012\\Cargo.toml: the cargo feature `edition2024` has been stabilized in the 1.85 release and is no longer necessary to be listed in the manifest\n",
       "00:00:00 \u001B[90mv\u001B[39m #13 !   See https://doc.rust-lang.org/nightly/cargo/reference/manifest.html#the-edition-field for more information about using this feature.\n",
       "00:00:00 \u001B[90mv\u001B[39m #14 ! warning: c:\\home\\git\\polyglot\\target\\spiral\\spiral\\packages\\Rust\\af546066492a7eb0b2f6972d227da7f3a635f5ec88145b21ff21530be521e50d\\Cargo.toml: the cargo feature `edition2024` has been stabilized in the 1.85 release and is no longer necessary to be listed in the manifest\n",
       "00:00:00 \u001B[90mv\u001B[39m #15 !   See https://doc.rust-lang.org/nightly/cargo/reference/manifest.html#the-edition-field for more information about using this feature.\n",
       "00:00:00 \u001B[90mv\u001B[39m #16 ! warning: c:\\home\\git\\polyglot\\target\\spiral\\spiral\\packages\\Rust\\be0b8fb3cf28b72608e4d0ee4fd216db5e77341ea1b2c9b12b2e3dedcd4c2301\\Cargo.toml: the cargo feature `edition2024` has been stabilized in the 1.85 release and is no longer necessary to be listed in the manifest\n",
       "00:00:00 \u001B[90mv\u001B[39m #17 !   See https://doc.rust-lang.org/nightly/cargo/reference/manifest.html#the-edition-field for more information about using this feature.\n",
       "00:00:00 \u001B[90mv\u001B[39m #18 ! warning: c:\\home\\git\\polyglot\\target\\spiral\\spiral\\packages\\Rust\\7142616d80c8b782cf50707ee4c8948ee3f731e90d4cc0c224c633d54cbee8e9\\Cargo.toml: the cargo feature `edition2024` has been stabilized in the 1.85 release and is no longer necessary to be listed in the manifest\n",
       "00:00:00 \u001B[90mv\u001B[39m #19 !   See https://doc.rust-lang.org/nightly/cargo/reference/manifest.html#the-edition-field for more information about using this feature.\n",
       "00:00:00 \u001B[90mv\u001B[39m #20 ! warning: c:\\home\\git\\polyglot\\target\\spiral\\spiral\\packages\\Rust\\2f5dbbca8af92f73926964fd3c9ef9483bdd493b485efa1ecc145dab49cda651\\Cargo.toml: the cargo feature `edition2024` has been stabilized in the 1.85 release and is no longer necessary to be listed in the manifest\n",
       "00:00:00 \u001B[90mv\u001B[39m #21 !   See https://doc.rust-lang.org/nightly/cargo/reference/manifest.html#the-edition-field for more information about using this feature.\n",
       "00:00:00 \u001B[90mv\u001B[39m #22 !    Compiling spiral_2f5dbbca8af92f73926964fd3c9ef9483bdd493b485efa1ecc145dab49cda651 v0.0.1 (C:\\home\\git\\polyglot\\target\\spiral\\spiral\\packages\\Rust\\2f5dbbca8af92f73926964fd3c9ef9483bdd493b485efa1ecc145dab49cda651)\n",
       "00:00:00 \u001B[90mv\u001B[39m #23 !     Finished `test` profile [unoptimized + debuginfo] target(s) in 0.69s\n",
       "00:00:00 \u001B[90mv\u001B[39m #24 !      Running unittests spiral.rs (c:\\home\\git\\polyglot\\target\\spiral\\spiral\\target\\debug\\deps\\spiral_2f5dbbca8af92f73926964fd3c9ef9483bdd493b485efa1ecc145dab49cda651-e0a4c141a083ac49.exe)\n",
       "00:00:00 \u001B[90mv\u001B[39m #25 >\n",
       "00:00:00 \u001B[90mv\u001B[39m #26 > running 1 test\n",
       "00:00:00 \u001B[90mv\u001B[39m #27 > test module_96d202d7::Spiral::a ... ok\n",
       "00:00:00 \u001B[90mv\u001B[39m #28 >\n",
       "00:00:00 \u001B[90mv\u001B[39m #29 > successes:\n",
       "00:00:00 \u001B[90mv\u001B[39m #30 >\n",
       "00:00:00 \u001B[90mv\u001B[39m #31 > ---- module_96d202d7::Spiral::a stdout ----\n",
       "00:00:00 \u001B[90mv\u001B[39m #32 > { name = __assert_eq; actual = a; expected = a }\n",
       "00:00:00 \u001B[90mv\u001B[39m #33 >\n",
       "00:00:00 \u001B[90mv\u001B[39m #34 >\n",
       "00:00:00 \u001B[90mv\u001B[39m #35 > successes:\n",
       "00:00:00 \u001B[90mv\u001B[39m #36 >     module_96d202d7::Spiral::a\n",
       "00:00:00 \u001B[90mv\u001B[39m #37 >\n",
       "00:00:00 \u001B[90mv\u001B[39m #38 > test result: ok. 1 passed; 0 failed; 0 ignored; 0 measured; 0 filtered out; finished in 0.00s\n",
       "00:00:00 \u001B[90mv\u001B[39m #39 >\n",
       "00:00:00 \u001B[90mv\u001B[39m #40 runtime.execute_with_options / result / { exit_code = 0; std_trace_length = 5056 }\n",
       "{ name = __assert_eq; actual = 0; expected = 0 }\n",
       "{ name = __assert; actual = test result: ok. 1 passed; 0 failed; 0 ignored;; expected = \u001B[4;7mwarning: c:\\home\\git\\polyglot\\target\\spiral\\spiral\\packages\\Rust\\461bea7e409be7ba3c2cee7a290c8cde9b029db415d54c41c7f34d91c3f48762\\Cargo.toml: the cargo feature `edition2024` has been stabilized in the 1.85 release and is no longer necessary to be listed in the manifest\u001B[0m\n",
       "\u001B[4;7m  See https://doc.rust-lang.org/nightly/cargo/reference/manifest.html#the-edition-field for more information about using this feature.\u001B[0m\n",
       "\u001B[4;7mwarning: c:\\home\\git\\polyglot\\target\\spiral\\spiral\\packages\\Rust\\54a59ba5e435b8664c19b43539349011f5847bce29db5893c6b58e2f4c95074a\\Cargo.toml: the cargo feature `edition2024` has been stabilized in the 1.85 release and is no longer necessary to be listed in the manifest\u001B[0m\n",
       "\u001B[4;7m  See https://doc.rust-lang.org/nightly/cargo/reference/manifest.html#the-edition-field for more information about using this feature.\u001B[0m\n",
       "\u001B[4;7mwarning: c:\\home\\git\\polyglot\\target\\spiral\\spiral\\packages\\Rust\\e596bfc9c6410bf92c6cfc14dde70aa61fff51f016c5841e92693b6a655f2623\\Cargo.toml: the cargo feature `edition2024` has been stabilized in the 1.85 release and is no longer necessary to be listed in the manifest\u001B[0m\n",
       "\u001B[4;7m  See https://doc.rust-lang.org/nightly/cargo/reference/manifest.html#the-edition-field for more information about using this feature.\u001B[0m\n",
       "\u001B[4;7mwarning: c:\\home\\git\\polyglot\\target\\spiral\\spiral\\packages\\Rust\\eed3a810df04b18a0d8e0eb6e88ce8019316ded193b573097de07d74f73e315e\\Cargo.toml: the cargo feature `edition2024` has been stabilized in the 1.85 release and is no longer necessary to be listed in the manifest\u001B[0m\n",
       "\u001B[4;7m  See https://doc.rust-lang.org/nightly/cargo/reference/manifest.html#the-edition-field for more information about using this feature.\u001B[0m\n",
       "\u001B[4;7mwarning: c:\\home\\git\\polyglot\\target\\spiral\\spiral\\packages\\Rust\\343f47b466e4604311d0f1ee5f37a5941763fe920c6e5c9af5ed705cd8a433f1\\Cargo.toml: the cargo feature `edition2024` has been stabilized in the 1.85 release and is no longer necessary to be listed in the manifest\u001B[0m\n",
       "\u001B[4;7m  See https://doc.rust-lang.org/nightly/cargo/reference/manifest.html#the-edition-field for more information about using this feature.\u001B[0m\n",
       "\u001B[4;7mwarning: c:\\home\\git\\polyglot\\target\\spiral\\spiral\\packages\\Rust\\aeb66eafd40da5f00e8c3b645db214a0ebf30ec8367e8d067e1d930556f3e012\\Cargo.toml: the cargo feature `edition2024` has been stabilized in the 1.85 release and is no longer necessary to be listed in the manifest\u001B[0m\n",
       "\u001B[4;7m  See https://doc.rust-lang.org/nightly/cargo/reference/manifest.html#the-edition-field for more information about using this feature.\u001B[0m\n",
       "\u001B[4;7mwarning: c:\\home\\git\\polyglot\\target\\spiral\\spiral\\packages\\Rust\\af546066492a7eb0b2f6972d227da7f3a635f5ec88145b21ff21530be521e50d\\Cargo.toml: the cargo feature `edition2024` has been stabilized in the 1.85 release and is no longer necessary to be listed in the manifest\u001B[0m\n",
       "\u001B[4;7m  See https://doc.rust-lang.org/nightly/cargo/reference/manifest.html#the-edition-field for more information about using this feature.\u001B[0m\n",
       "\u001B[4;7mwarning: c:\\home\\git\\polyglot\\target\\spiral\\spiral\\packages\\Rust\\be0b8fb3cf28b72608e4d0ee4fd216db5e77341ea1b2c9b12b2e3dedcd4c2301\\Cargo.toml: the cargo feature `edition2024` has been stabilized in the 1.85 release and is no longer necessary to be listed in the manifest\u001B[0m\n",
       "\u001B[4;7m  See https://doc.rust-lang.org/nightly/cargo/reference/manifest.html#the-edition-field for more information about using this feature.\u001B[0m\n",
       "\u001B[4;7mwarning: c:\\home\\git\\polyglot\\target\\spiral\\spiral\\packages\\Rust\\7142616d80c8b782cf50707ee4c8948ee3f731e90d4cc0c224c633d54cbee8e9\\Cargo.toml: the cargo feature `edition2024` has been stabilized in the 1.85 release and is no longer necessary to be listed in the manifest\u001B[0m\n",
       "\u001B[4;7m  See https://doc.rust-lang.org/nightly/cargo/reference/manifest.html#the-edition-field for more information about using this feature.\u001B[0m\n",
       "\u001B[4;7mwarning: c:\\home\\git\\polyglot\\target\\spiral\\spiral\\packages\\Rust\\2f5dbbca8af92f73926964fd3c9ef9483bdd493b485efa1ecc145dab49cda651\\Cargo.toml: the cargo feature `edition2024` has been stabilized in the 1.85 release and is no longer necessary to be listed in the manifest\u001B[0m\n",
       "\u001B[4;7m  See https://doc.rust-lang.org/nightly/cargo/reference/manifest.html#the-edition-field for more information about using this feature.\u001B[0m\n",
       "\u001B[4;7m   Compiling spiral_2f5dbbca8af92f73926964fd3c9ef9483bdd493b485efa1ecc145dab49cda651 v0.0.1 (C:\\home\\git\\polyglot\\target\\spiral\\spiral\\packages\\Rust\\2f5dbbca8af92f73926964fd3c9ef9483bdd493b485efa1ecc145dab49cda651)\u001B[0m\n",
       "\u001B[4;7m    Finished `test` profile [unoptimized + debuginfo] target(s) in 0.69s\u001B[0m\n",
       "\u001B[4;7m     Running unittests spiral.rs (c:\\home\\git\\polyglot\\target\\spiral\\spiral\\target\\debug\\deps\\spiral_2f5dbbca8af92f73926964fd3c9ef9483bdd493b485efa1ecc145dab49cda651-e0a4c141a083ac49.exe)\u001B[0m\n",
       "\n",
       "running 1 test\n",
       "test module_96d202d7::Spiral::a ... ok\n",
       "\n",
       "successes:\n",
       "\n",
       "---- module_96d202d7::Spiral::a stdout ----\n",
       "{ name = __assert_eq; actual = a; expected = a }\n",
       "\n",
       "\n",
       "successes:\n",
       "    module_96d202d7::Spiral::a\n",
       "\n",
       "test result: ok. 1 passed; 0 failed; 0 ignored; 0 measured; 0 filtered out; finished in 0.00s\n",
       " }\n"
      ]
     },
     "metadata": {},
     "output_type": "display_data"
    }
   ],
   "source": [
    "//// test\n",
    "///! rust -d encoding_rs encoding_rs_io\n",
    "\n",
    "fun () =>\n",
    "    run_tests {\n",
    "        a = fun () => \"a\" |> _assert_eq \"a\"\n",
    "    }\n",
    "|> run"
   ]
  },
  {
   "cell_type": "markdown",
   "metadata": {},
   "source": [
    "### run_tests_log"
   ]
  },
  {
   "cell_type": "code",
   "execution_count": null,
   "metadata": {
    "dotnet_interactive": {
     "language": "spiral"
    },
    "polyglot_notebook": {
     "kernelName": "spiral"
    }
   },
   "outputs": [],
   "source": [
    "inl run_tests_log tests : () =\n",
    "    real\n",
    "        inl tests =\n",
    "            real_core.record_map\n",
    "                fun { key value } =>\n",
    "                    (fun _ => value false) : () -> ()\n",
    "                tests\n",
    "        run_tests `(`tests) tests"
   ]
  },
  {
   "cell_type": "code",
   "execution_count": null,
   "metadata": {
    "dotnet_interactive": {
     "language": "spiral"
    },
    "polyglot_notebook": {
     "kernelName": "spiral"
    }
   },
   "outputs": [
    {
     "data": {
      "text/plain": [
       "00:00:00 \u001B[94md\u001B[39m #1 runtime.execute_with_options / { file_name = cargo; arguments = [\"test\", \"--\", \"--show-output\"]; options = { command = cargo test -- --show-output; cancellation_token = None; environment_variables = Array(MutCell([(\"TEST\", \"1\")])); on_line = None; stdin = None; trace = true; working_directory = Some(\n",
       "    \"c:\\home\\git\\polyglot\\target\\spiral\\spiral\\packages\\Rust\\58f86f92116d1982df2a255783bc2de52081187e0b137680fb14811a92f2124a\",\n",
       "); stderr = true } }\n",
       "00:00:00 \u001B[90mv\u001B[39m #2 ! warning: c:\\home\\git\\polyglot\\target\\spiral\\spiral\\packages\\Rust\\461bea7e409be7ba3c2cee7a290c8cde9b029db415d54c41c7f34d91c3f48762\\Cargo.toml: the cargo feature `edition2024` has been stabilized in the 1.85 release and is no longer necessary to be listed in the manifest\n",
       "00:00:00 \u001B[90mv\u001B[39m #3 !   See https://doc.rust-lang.org/nightly/cargo/reference/manifest.html#the-edition-field for more information about using this feature.\n",
       "00:00:00 \u001B[90mv\u001B[39m #4 ! warning: c:\\home\\git\\polyglot\\target\\spiral\\spiral\\packages\\Rust\\58f86f92116d1982df2a255783bc2de52081187e0b137680fb14811a92f2124a\\Cargo.toml: the cargo feature `edition2024` has been stabilized in the 1.85 release and is no longer necessary to be listed in the manifest\n",
       "00:00:00 \u001B[90mv\u001B[39m #5 !   See https://doc.rust-lang.org/nightly/cargo/reference/manifest.html#the-edition-field for more information about using this feature.\n",
       "00:00:00 \u001B[90mv\u001B[39m #6 ! warning: c:\\home\\git\\polyglot\\target\\spiral\\spiral\\packages\\Rust\\be0b8fb3cf28b72608e4d0ee4fd216db5e77341ea1b2c9b12b2e3dedcd4c2301\\Cargo.toml: the cargo feature `edition2024` has been stabilized in the 1.85 release and is no longer necessary to be listed in the manifest\n",
       "00:00:00 \u001B[90mv\u001B[39m #7 !   See https://doc.rust-lang.org/nightly/cargo/reference/manifest.html#the-edition-field for more information about using this feature.\n",
       "00:00:00 \u001B[90mv\u001B[39m #8 ! warning: c:\\home\\git\\polyglot\\target\\spiral\\spiral\\packages\\Rust\\343f47b466e4604311d0f1ee5f37a5941763fe920c6e5c9af5ed705cd8a433f1\\Cargo.toml: the cargo feature `edition2024` has been stabilized in the 1.85 release and is no longer necessary to be listed in the manifest\n",
       "00:00:00 \u001B[90mv\u001B[39m #9 !   See https://doc.rust-lang.org/nightly/cargo/reference/manifest.html#the-edition-field for more information about using this feature.\n",
       "00:00:00 \u001B[90mv\u001B[39m #10 ! warning: c:\\home\\git\\polyglot\\target\\spiral\\spiral\\packages\\Rust\\e596bfc9c6410bf92c6cfc14dde70aa61fff51f016c5841e92693b6a655f2623\\Cargo.toml: the cargo feature `edition2024` has been stabilized in the 1.85 release and is no longer necessary to be listed in the manifest\n",
       "00:00:00 \u001B[90mv\u001B[39m #11 !   See https://doc.rust-lang.org/nightly/cargo/reference/manifest.html#the-edition-field for more information about using this feature.\n",
       "00:00:00 \u001B[90mv\u001B[39m #12 ! warning: c:\\home\\git\\polyglot\\target\\spiral\\spiral\\packages\\Rust\\aeb66eafd40da5f00e8c3b645db214a0ebf30ec8367e8d067e1d930556f3e012\\Cargo.toml: the cargo feature `edition2024` has been stabilized in the 1.85 release and is no longer necessary to be listed in the manifest\n",
       "00:00:00 \u001B[90mv\u001B[39m #13 !   See https://doc.rust-lang.org/nightly/cargo/reference/manifest.html#the-edition-field for more information about using this feature.\n",
       "00:00:00 \u001B[90mv\u001B[39m #14 ! warning: c:\\home\\git\\polyglot\\target\\spiral\\spiral\\packages\\Rust\\54a59ba5e435b8664c19b43539349011f5847bce29db5893c6b58e2f4c95074a\\Cargo.toml: the cargo feature `edition2024` has been stabilized in the 1.85 release and is no longer necessary to be listed in the manifest\n",
       "00:00:00 \u001B[90mv\u001B[39m #15 !   See https://doc.rust-lang.org/nightly/cargo/reference/manifest.html#the-edition-field for more information about using this feature.\n",
       "00:00:00 \u001B[90mv\u001B[39m #16 ! warning: c:\\home\\git\\polyglot\\target\\spiral\\spiral\\packages\\Rust\\af546066492a7eb0b2f6972d227da7f3a635f5ec88145b21ff21530be521e50d\\Cargo.toml: the cargo feature `edition2024` has been stabilized in the 1.85 release and is no longer necessary to be listed in the manifest\n",
       "00:00:00 \u001B[90mv\u001B[39m #17 !   See https://doc.rust-lang.org/nightly/cargo/reference/manifest.html#the-edition-field for more information about using this feature.\n",
       "00:00:00 \u001B[90mv\u001B[39m #18 ! warning: c:\\home\\git\\polyglot\\target\\spiral\\spiral\\packages\\Rust\\eed3a810df04b18a0d8e0eb6e88ce8019316ded193b573097de07d74f73e315e\\Cargo.toml: the cargo feature `edition2024` has been stabilized in the 1.85 release and is no longer necessary to be listed in the manifest\n",
       "00:00:00 \u001B[90mv\u001B[39m #19 !   See https://doc.rust-lang.org/nightly/cargo/reference/manifest.html#the-edition-field for more information about using this feature.\n",
       "00:00:00 \u001B[90mv\u001B[39m #20 ! warning: c:\\home\\git\\polyglot\\target\\spiral\\spiral\\packages\\Rust\\7142616d80c8b782cf50707ee4c8948ee3f731e90d4cc0c224c633d54cbee8e9\\Cargo.toml: the cargo feature `edition2024` has been stabilized in the 1.85 release and is no longer necessary to be listed in the manifest\n",
       "00:00:00 \u001B[90mv\u001B[39m #21 !   See https://doc.rust-lang.org/nightly/cargo/reference/manifest.html#the-edition-field for more information about using this feature.\n",
       "00:00:00 \u001B[90mv\u001B[39m #22 !    Compiling spiral_58f86f92116d1982df2a255783bc2de52081187e0b137680fb14811a92f2124a v0.0.1 (C:\\home\\git\\polyglot\\target\\spiral\\spiral\\packages\\Rust\\58f86f92116d1982df2a255783bc2de52081187e0b137680fb14811a92f2124a)\n",
       "00:00:01 \u001B[90mv\u001B[39m #23 !     Finished `test` profile [unoptimized + debuginfo] target(s) in 1.19s\n",
       "00:00:01 \u001B[90mv\u001B[39m #24 !      Running unittests spiral.rs (c:\\home\\git\\polyglot\\target\\spiral\\spiral\\target\\debug\\deps\\spiral_58f86f92116d1982df2a255783bc2de52081187e0b137680fb14811a92f2124a-98a212a7d1f6de48.exe)\n",
       "00:00:01 \u001B[90mv\u001B[39m #25 >\n",
       "00:00:01 \u001B[90mv\u001B[39m #26 > running 1 test\n",
       "00:00:01 \u001B[90mv\u001B[39m #27 > test module_2c452329::Spiral::a ... ok\n",
       "00:00:01 \u001B[90mv\u001B[39m #28 >\n",
       "00:00:01 \u001B[90mv\u001B[39m #29 > successes:\n",
       "00:00:01 \u001B[90mv\u001B[39m #30 >\n",
       "00:00:01 \u001B[90mv\u001B[39m #31 > ---- module_2c452329::Spiral::a stdout ----\n",
       "00:00:01 \u001B[90mv\u001B[39m #32 > { name = __assert_eq; actual = false; expected = false }\n",
       "00:00:01 \u001B[90mv\u001B[39m #33 >\n",
       "00:00:01 \u001B[90mv\u001B[39m #34 >\n",
       "00:00:01 \u001B[90mv\u001B[39m #35 > successes:\n",
       "00:00:01 \u001B[90mv\u001B[39m #36 >     module_2c452329::Spiral::a\n",
       "00:00:01 \u001B[90mv\u001B[39m #37 >\n",
       "00:00:01 \u001B[90mv\u001B[39m #38 > test result: ok. 1 passed; 0 failed; 0 ignored; 0 measured; 0 filtered out; finished in 0.00s\n",
       "00:00:01 \u001B[90mv\u001B[39m #39 >\n",
       "00:00:01 \u001B[90mv\u001B[39m #40 runtime.execute_with_options / result / { exit_code = 0; std_trace_length = 5064 }\n",
       "{ name = __assert_eq; actual = 0; expected = 0 }\n",
       "{ name = __assert; actual = test result: ok. 1 passed; 0 failed; 0 ignored;; expected = \u001B[4;7mwarning: c:\\home\\git\\polyglot\\target\\spiral\\spiral\\packages\\Rust\\461bea7e409be7ba3c2cee7a290c8cde9b029db415d54c41c7f34d91c3f48762\\Cargo.toml: the cargo feature `edition2024` has been stabilized in the 1.85 release and is no longer necessary to be listed in the manifest\u001B[0m\n",
       "\u001B[4;7m  See https://doc.rust-lang.org/nightly/cargo/reference/manifest.html#the-edition-field for more information about using this feature.\u001B[0m\n",
       "\u001B[4;7mwarning: c:\\home\\git\\polyglot\\target\\spiral\\spiral\\packages\\Rust\\58f86f92116d1982df2a255783bc2de52081187e0b137680fb14811a92f2124a\\Cargo.toml: the cargo feature `edition2024` has been stabilized in the 1.85 release and is no longer necessary to be listed in the manifest\u001B[0m\n",
       "\u001B[4;7m  See https://doc.rust-lang.org/nightly/cargo/reference/manifest.html#the-edition-field for more information about using this feature.\u001B[0m\n",
       "\u001B[4;7mwarning: c:\\home\\git\\polyglot\\target\\spiral\\spiral\\packages\\Rust\\be0b8fb3cf28b72608e4d0ee4fd216db5e77341ea1b2c9b12b2e3dedcd4c2301\\Cargo.toml: the cargo feature `edition2024` has been stabilized in the 1.85 release and is no longer necessary to be listed in the manifest\u001B[0m\n",
       "\u001B[4;7m  See https://doc.rust-lang.org/nightly/cargo/reference/manifest.html#the-edition-field for more information about using this feature.\u001B[0m\n",
       "\u001B[4;7mwarning: c:\\home\\git\\polyglot\\target\\spiral\\spiral\\packages\\Rust\\343f47b466e4604311d0f1ee5f37a5941763fe920c6e5c9af5ed705cd8a433f1\\Cargo.toml: the cargo feature `edition2024` has been stabilized in the 1.85 release and is no longer necessary to be listed in the manifest\u001B[0m\n",
       "\u001B[4;7m  See https://doc.rust-lang.org/nightly/cargo/reference/manifest.html#the-edition-field for more information about using this feature.\u001B[0m\n",
       "\u001B[4;7mwarning: c:\\home\\git\\polyglot\\target\\spiral\\spiral\\packages\\Rust\\e596bfc9c6410bf92c6cfc14dde70aa61fff51f016c5841e92693b6a655f2623\\Cargo.toml: the cargo feature `edition2024` has been stabilized in the 1.85 release and is no longer necessary to be listed in the manifest\u001B[0m\n",
       "\u001B[4;7m  See https://doc.rust-lang.org/nightly/cargo/reference/manifest.html#the-edition-field for more information about using this feature.\u001B[0m\n",
       "\u001B[4;7mwarning: c:\\home\\git\\polyglot\\target\\spiral\\spiral\\packages\\Rust\\aeb66eafd40da5f00e8c3b645db214a0ebf30ec8367e8d067e1d930556f3e012\\Cargo.toml: the cargo feature `edition2024` has been stabilized in the 1.85 release and is no longer necessary to be listed in the manifest\u001B[0m\n",
       "\u001B[4;7m  See https://doc.rust-lang.org/nightly/cargo/reference/manifest.html#the-edition-field for more information about using this feature.\u001B[0m\n",
       "\u001B[4;7mwarning: c:\\home\\git\\polyglot\\target\\spiral\\spiral\\packages\\Rust\\54a59ba5e435b8664c19b43539349011f5847bce29db5893c6b58e2f4c95074a\\Cargo.toml: the cargo feature `edition2024` has been stabilized in the 1.85 release and is no longer necessary to be listed in the manifest\u001B[0m\n",
       "\u001B[4;7m  See https://doc.rust-lang.org/nightly/cargo/reference/manifest.html#the-edition-field for more information about using this feature.\u001B[0m\n",
       "\u001B[4;7mwarning: c:\\home\\git\\polyglot\\target\\spiral\\spiral\\packages\\Rust\\af546066492a7eb0b2f6972d227da7f3a635f5ec88145b21ff21530be521e50d\\Cargo.toml: the cargo feature `edition2024` has been stabilized in the 1.85 release and is no longer necessary to be listed in the manifest\u001B[0m\n",
       "\u001B[4;7m  See https://doc.rust-lang.org/nightly/cargo/reference/manifest.html#the-edition-field for more information about using this feature.\u001B[0m\n",
       "\u001B[4;7mwarning: c:\\home\\git\\polyglot\\target\\spiral\\spiral\\packages\\Rust\\eed3a810df04b18a0d8e0eb6e88ce8019316ded193b573097de07d74f73e315e\\Cargo.toml: the cargo feature `edition2024` has been stabilized in the 1.85 release and is no longer necessary to be listed in the manifest\u001B[0m\n",
       "\u001B[4;7m  See https://doc.rust-lang.org/nightly/cargo/reference/manifest.html#the-edition-field for more information about using this feature.\u001B[0m\n",
       "\u001B[4;7mwarning: c:\\home\\git\\polyglot\\target\\spiral\\spiral\\packages\\Rust\\7142616d80c8b782cf50707ee4c8948ee3f731e90d4cc0c224c633d54cbee8e9\\Cargo.toml: the cargo feature `edition2024` has been stabilized in the 1.85 release and is no longer necessary to be listed in the manifest\u001B[0m\n",
       "\u001B[4;7m  See https://doc.rust-lang.org/nightly/cargo/reference/manifest.html#the-edition-field for more information about using this feature.\u001B[0m\n",
       "\u001B[4;7m   Compiling spiral_58f86f92116d1982df2a255783bc2de52081187e0b137680fb14811a92f2124a v0.0.1 (C:\\home\\git\\polyglot\\target\\spiral\\spiral\\packages\\Rust\\58f86f92116d1982df2a255783bc2de52081187e0b137680fb14811a92f2124a)\u001B[0m\n",
       "\u001B[4;7m    Finished `test` profile [unoptimized + debuginfo] target(s) in 1.19s\u001B[0m\n",
       "\u001B[4;7m     Running unittests spiral.rs (c:\\home\\git\\polyglot\\target\\spiral\\spiral\\target\\debug\\deps\\spiral_58f86f92116d1982df2a255783bc2de52081187e0b137680fb14811a92f2124a-98a212a7d1f6de48.exe)\u001B[0m\n",
       "\n",
       "running 1 test\n",
       "test module_2c452329::Spiral::a ... ok\n",
       "\n",
       "successes:\n",
       "\n",
       "---- module_2c452329::Spiral::a stdout ----\n",
       "{ name = __assert_eq; actual = false; expected = false }\n",
       "\n",
       "\n",
       "successes:\n",
       "    module_2c452329::Spiral::a\n",
       "\n",
       "test result: ok. 1 passed; 0 failed; 0 ignored; 0 measured; 0 filtered out; finished in 0.00s\n",
       " }\n"
      ]
     },
     "metadata": {},
     "output_type": "display_data"
    }
   ],
   "source": [
    "//// test\n",
    "///! rust -d encoding_rs encoding_rs_io\n",
    "\n",
    "fun () =>\n",
    "    run_tests_log {\n",
    "        a = _assert_eq false\n",
    "    }\n",
    "|> run"
   ]
  }
 ],
 "metadata": {},
 "nbformat": 4,
 "nbformat_minor": 5
}