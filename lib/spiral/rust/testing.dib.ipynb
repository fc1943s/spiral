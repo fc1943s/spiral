{
 "cells": [
  {
   "cell_type": "markdown",
   "metadata": {},
   "source": [
    "# rust/testing"
   ]
  },
  {
   "cell_type": "code",
   "execution_count": null,
   "metadata": {
    "dotnet_interactive": {
     "language": "spiral"
    },
    "polyglot_notebook": {
     "kernelName": "spiral"
    }
   },
   "outputs": [],
   "source": [
    "open rust.rust_operators"
   ]
  },
  {
   "cell_type": "code",
   "execution_count": null,
   "metadata": {
    "dotnet_interactive": {
     "language": "spiral"
    },
    "polyglot_notebook": {
     "kernelName": "spiral"
    }
   },
   "outputs": [],
   "source": [
    "//// test\n",
    "\n",
    "open testing"
   ]
  },
  {
   "cell_type": "markdown",
   "metadata": {},
   "source": [
    "### run_tests'"
   ]
  },
  {
   "cell_type": "code",
   "execution_count": null,
   "metadata": {
    "dotnet_interactive": {
     "language": "spiral"
    },
    "polyglot_notebook": {
     "kernelName": "spiral"
    }
   },
   "outputs": [],
   "source": [
    "inl run_tests' tests =\n",
    "    (!\\($'\"true; () //\"') : bool) |> ignore\n",
    "\n",
    "    inl fields = reflection.get_record_fields tests\n",
    "\n",
    "    fields\n",
    "    |> listm.iter fun name, (fn : string -> ()) =>\n",
    "        !\\($'\"} /* /*\"')\n",
    "        (!\\($'$\"*/ #[test] fn \" + !name + \"() { //\"') : bool) |> ignore\n",
    "        fn name\n",
    "\n",
    "    fields\n",
    "    |> listm.iter fun _ =>\n",
    "        !\\($'\"{ //\"') : ()"
   ]
  },
  {
   "cell_type": "code",
   "execution_count": null,
   "metadata": {
    "dotnet_interactive": {
     "language": "spiral"
    },
    "polyglot_notebook": {
     "kernelName": "spiral"
    }
   },
   "outputs": [],
   "source": [
    "//// test\n",
    "\n",
    "inl run test =\n",
    "    if env.get_environment_variable \"TEST\" = \"1\"\n",
    "    then ()\n",
    "    else\n",
    "        runtime.execution_options fun x => { x with\n",
    "            command = \"cargo test -- --show-output\"\n",
    "            working_directory = file_system.get_source_directory () |> Some |> optionm'.box\n",
    "            environment_variables = ;[ \"TEST\", \"1\" ]\n",
    "        }\n",
    "        |> runtime.execute_with_options\n",
    "        |> fun exit_code, result =>\n",
    "            exit_code |> _assert_eq 0i32\n",
    "            result |> _assert sm'.contains \"test result: ok. 1 passed; 0 failed; 0 ignored;\"\n",
    "\n",
    "    $'let tests () = !test ()' : ()"
   ]
  },
  {
   "cell_type": "code",
   "execution_count": null,
   "metadata": {
    "dotnet_interactive": {
     "language": "spiral"
    },
    "polyglot_notebook": {
     "kernelName": "spiral"
    }
   },
   "outputs": [
    {
     "data": {
      "text/plain": [
       "00:00:00 \u001B[94md\u001B[39m #1 runtime.execute_with_options / { file_name = cargo; arguments = [\"test\", \"--\", \"--show-output\"]; options = { command = cargo test -- --show-output; cancellation_token = None; environment_variables = Array(MutCell([(\"TEST\", \"1\")])); on_line = None; stdin = None; trace = true; working_directory = Some(\n",
       "    \"c:\\home\\git\\polyglot\\target\\spiral\\spiral\\packages\\Rust\\f03ee68090140f8bcd957f008d144b17ce1fb393980995efdda2aad85f765b9e\",\n",
       ") } }\n",
       "00:00:00 \u001B[90mv\u001B[39m #2 !    Compiling spiral_f03ee68090140f8bcd957f008d144b17ce1fb393980995efdda2aad85f765b9e v0.0.1 (C:\\home\\git\\polyglot\\target\\spiral\\spiral\\packages\\Rust\\f03ee68090140f8bcd957f008d144b17ce1fb393980995efdda2aad85f765b9e)\n",
       "00:00:01 \u001B[90mv\u001B[39m #3 !     Finished `test` profile [unoptimized + debuginfo] target(s) in 1.82s\n",
       "00:00:01 \u001B[90mv\u001B[39m #4 !      Running unittests spiral.rs (c:\\home\\git\\polyglot\\target\\spiral\\spiral\\target\\debug\\deps\\spiral_f03ee68090140f8bcd957f008d144b17ce1fb393980995efdda2aad85f765b9e-a3c4a22aafcdce06.exe)\n",
       "00:00:01 \u001B[90mv\u001B[39m #5 >\n",
       "00:00:01 \u001B[90mv\u001B[39m #6 > running 1 test\n",
       "00:00:01 \u001B[90mv\u001B[39m #7 > test module_c46b1a82::Spiral::a ... ok\n",
       "00:00:01 \u001B[90mv\u001B[39m #8 >\n",
       "00:00:01 \u001B[90mv\u001B[39m #9 > successes:\n",
       "00:00:01 \u001B[90mv\u001B[39m #10 >\n",
       "00:00:01 \u001B[90mv\u001B[39m #11 > ---- module_c46b1a82::Spiral::a stdout ----\n",
       "00:00:01 \u001B[90mv\u001B[39m #12 > { name = __assert_eq; actual = a; expected = a }\n",
       "00:00:01 \u001B[90mv\u001B[39m #13 >\n",
       "00:00:01 \u001B[90mv\u001B[39m #14 >\n",
       "00:00:01 \u001B[90mv\u001B[39m #15 > successes:\n",
       "00:00:01 \u001B[90mv\u001B[39m #16 >     module_c46b1a82::Spiral::a\n",
       "00:00:01 \u001B[90mv\u001B[39m #17 >\n",
       "00:00:01 \u001B[90mv\u001B[39m #18 > test result: ok. 1 passed; 0 failed; 0 ignored; 0 measured; 0 filtered out; finished in 0.00s\n",
       "00:00:01 \u001B[90mv\u001B[39m #19 >\n",
       "00:00:01 \u001B[90mv\u001B[39m #20 runtime.execute_with_options / result / { exit_code = 0; std_trace_length = 806 }\n",
       "{ name = __assert_eq; actual = 0; expected = 0 }\n",
       "{ name = __assert; actual = test result: ok. 1 passed; 0 failed; 0 ignored;; expected = \u001B[4;7m   Compiling spiral_f03ee68090140f8bcd957f008d144b17ce1fb393980995efdda2aad85f765b9e v0.0.1 (C:\\home\\git\\polyglot\\target\\spiral\\spiral\\packages\\Rust\\f03ee68090140f8bcd957f008d144b17ce1fb393980995efdda2aad85f765b9e)\u001B[0m\n",
       "\u001B[4;7m    Finished `test` profile [unoptimized + debuginfo] target(s) in 1.82s\u001B[0m\n",
       "\u001B[4;7m     Running unittests spiral.rs (c:\\home\\git\\polyglot\\target\\spiral\\spiral\\target\\debug\\deps\\spiral_f03ee68090140f8bcd957f008d144b17ce1fb393980995efdda2aad85f765b9e-a3c4a22aafcdce06.exe)\u001B[0m\n",
       "\n",
       "running 1 test\n",
       "test module_c46b1a82::Spiral::a ... ok\n",
       "\n",
       "successes:\n",
       "\n",
       "---- module_c46b1a82::Spiral::a stdout ----\n",
       "{ name = __assert_eq; actual = a; expected = a }\n",
       "\n",
       "\n",
       "successes:\n",
       "    module_c46b1a82::Spiral::a\n",
       "\n",
       "test result: ok. 1 passed; 0 failed; 0 ignored; 0 measured; 0 filtered out; finished in 0.00s\n",
       " }\n"
      ]
     },
     "metadata": {},
     "output_type": "display_data"
    }
   ],
   "source": [
    "//// test\n",
    "///! rust -d encoding_rs encoding_rs_io\n",
    "\n",
    "fun () =>\n",
    "    run_tests' {\n",
    "        a = _assert_eq \"a\"\n",
    "    }\n",
    "|> run"
   ]
  },
  {
   "cell_type": "markdown",
   "metadata": {},
   "source": [
    "### run_tests"
   ]
  },
  {
   "cell_type": "code",
   "execution_count": null,
   "metadata": {
    "dotnet_interactive": {
     "language": "spiral"
    },
    "polyglot_notebook": {
     "kernelName": "spiral"
    }
   },
   "outputs": [],
   "source": [
    "inl run_tests tests : () =\n",
    "    real\n",
    "        inl tests =\n",
    "            real_core.record_map\n",
    "                fun { key value } =>\n",
    "                    (fun _ => value ()) : string -> ()\n",
    "                tests\n",
    "        run_tests' `(`tests) tests"
   ]
  },
  {
   "cell_type": "code",
   "execution_count": null,
   "metadata": {
    "dotnet_interactive": {
     "language": "spiral"
    },
    "polyglot_notebook": {
     "kernelName": "spiral"
    }
   },
   "outputs": [
    {
     "data": {
      "text/plain": [
       "00:00:00 \u001B[94md\u001B[39m #1 runtime.execute_with_options / { file_name = cargo; arguments = [\"test\", \"--\", \"--show-output\"]; options = { command = cargo test -- --show-output; cancellation_token = None; environment_variables = Array(MutCell([(\"TEST\", \"1\")])); on_line = None; stdin = None; trace = true; working_directory = Some(\n",
       "    \"c:\\home\\git\\polyglot\\target\\spiral\\spiral\\packages\\Rust\\f03ee68090140f8bcd957f008d144b17ce1fb393980995efdda2aad85f765b9e\",\n",
       ") } }\n",
       "00:00:00 \u001B[90mv\u001B[39m #2 !    Compiling spiral_f03ee68090140f8bcd957f008d144b17ce1fb393980995efdda2aad85f765b9e v0.0.1 (C:\\home\\git\\polyglot\\target\\spiral\\spiral\\packages\\Rust\\f03ee68090140f8bcd957f008d144b17ce1fb393980995efdda2aad85f765b9e)\n",
       "00:00:01 \u001B[90mv\u001B[39m #3 !     Finished `test` profile [unoptimized + debuginfo] target(s) in 1.35s\n",
       "00:00:01 \u001B[90mv\u001B[39m #4 !      Running unittests spiral.rs (c:\\home\\git\\polyglot\\target\\spiral\\spiral\\target\\debug\\deps\\spiral_f03ee68090140f8bcd957f008d144b17ce1fb393980995efdda2aad85f765b9e-a3c4a22aafcdce06.exe)\n",
       "00:00:01 \u001B[90mv\u001B[39m #5 >\n",
       "00:00:01 \u001B[90mv\u001B[39m #6 > running 1 test\n",
       "00:00:01 \u001B[90mv\u001B[39m #7 > test module_c46b1a82::Spiral::a ... ok\n",
       "00:00:01 \u001B[90mv\u001B[39m #8 >\n",
       "00:00:01 \u001B[90mv\u001B[39m #9 > successes:\n",
       "00:00:01 \u001B[90mv\u001B[39m #10 >\n",
       "00:00:01 \u001B[90mv\u001B[39m #11 > ---- module_c46b1a82::Spiral::a stdout ----\n",
       "00:00:01 \u001B[90mv\u001B[39m #12 > { name = __assert_eq; actual = a; expected = a }\n",
       "00:00:01 \u001B[90mv\u001B[39m #13 >\n",
       "00:00:01 \u001B[90mv\u001B[39m #14 >\n",
       "00:00:01 \u001B[90mv\u001B[39m #15 > successes:\n",
       "00:00:01 \u001B[90mv\u001B[39m #16 >     module_c46b1a82::Spiral::a\n",
       "00:00:01 \u001B[90mv\u001B[39m #17 >\n",
       "00:00:01 \u001B[90mv\u001B[39m #18 > test result: ok. 1 passed; 0 failed; 0 ignored; 0 measured; 0 filtered out; finished in 0.00s\n",
       "00:00:01 \u001B[90mv\u001B[39m #19 >\n",
       "00:00:01 \u001B[90mv\u001B[39m #20 runtime.execute_with_options / result / { exit_code = 0; std_trace_length = 806 }\n",
       "{ name = __assert_eq; actual = 0; expected = 0 }\n",
       "{ name = __assert; actual = test result: ok. 1 passed; 0 failed; 0 ignored;; expected = \u001B[4;7m   Compiling spiral_f03ee68090140f8bcd957f008d144b17ce1fb393980995efdda2aad85f765b9e v0.0.1 (C:\\home\\git\\polyglot\\target\\spiral\\spiral\\packages\\Rust\\f03ee68090140f8bcd957f008d144b17ce1fb393980995efdda2aad85f765b9e)\u001B[0m\n",
       "\u001B[4;7m    Finished `test` profile [unoptimized + debuginfo] target(s) in 1.35s\u001B[0m\n",
       "\u001B[4;7m     Running unittests spiral.rs (c:\\home\\git\\polyglot\\target\\spiral\\spiral\\target\\debug\\deps\\spiral_f03ee68090140f8bcd957f008d144b17ce1fb393980995efdda2aad85f765b9e-a3c4a22aafcdce06.exe)\u001B[0m\n",
       "\n",
       "running 1 test\n",
       "test module_c46b1a82::Spiral::a ... ok\n",
       "\n",
       "successes:\n",
       "\n",
       "---- module_c46b1a82::Spiral::a stdout ----\n",
       "{ name = __assert_eq; actual = a; expected = a }\n",
       "\n",
       "\n",
       "successes:\n",
       "    module_c46b1a82::Spiral::a\n",
       "\n",
       "test result: ok. 1 passed; 0 failed; 0 ignored; 0 measured; 0 filtered out; finished in 0.00s\n",
       " }\n"
      ]
     },
     "metadata": {},
     "output_type": "display_data"
    }
   ],
   "source": [
    "//// test\n",
    "///! rust -d encoding_rs encoding_rs_io\n",
    "\n",
    "fun () =>\n",
    "    run_tests {\n",
    "        a = fun () => \"a\" |> _assert_eq \"a\"\n",
    "    }\n",
    "|> run"
   ]
  },
  {
   "cell_type": "markdown",
   "metadata": {},
   "source": [
    "### run_tests_log"
   ]
  },
  {
   "cell_type": "code",
   "execution_count": null,
   "metadata": {
    "dotnet_interactive": {
     "language": "spiral"
    },
    "polyglot_notebook": {
     "kernelName": "spiral"
    }
   },
   "outputs": [],
   "source": [
    "inl run_tests_log tests : () =\n",
    "    real\n",
    "        inl tests =\n",
    "            real_core.record_map\n",
    "                fun { key value } =>\n",
    "                    (fun _ => value false) : () -> ()\n",
    "                tests\n",
    "        run_tests `(`tests) tests"
   ]
  },
  {
   "cell_type": "code",
   "execution_count": null,
   "metadata": {
    "dotnet_interactive": {
     "language": "spiral"
    },
    "polyglot_notebook": {
     "kernelName": "spiral"
    }
   },
   "outputs": [
    {
     "data": {
      "text/plain": [
       "00:00:00 \u001B[94md\u001B[39m #1 runtime.execute_with_options / { file_name = cargo; arguments = [\"test\", \"--\", \"--show-output\"]; options = { command = cargo test -- --show-output; cancellation_token = None; environment_variables = Array(MutCell([(\"TEST\", \"1\")])); on_line = None; stdin = None; trace = true; working_directory = Some(\n",
       "    \"c:\\home\\git\\polyglot\\target\\spiral\\spiral\\packages\\Rust\\dbfb667908ae50aff3d7a1af93ee23a74abf6d4ef06b522335c47cceb7be2798\",\n",
       ") } }\n",
       "00:00:00 \u001B[90mv\u001B[39m #2 !    Compiling spiral_dbfb667908ae50aff3d7a1af93ee23a74abf6d4ef06b522335c47cceb7be2798 v0.0.1 (C:\\home\\git\\polyglot\\target\\spiral\\spiral\\packages\\Rust\\dbfb667908ae50aff3d7a1af93ee23a74abf6d4ef06b522335c47cceb7be2798)\n",
       "00:00:01 \u001B[90mv\u001B[39m #3 !     Finished `test` profile [unoptimized + debuginfo] target(s) in 1.77s\n",
       "00:00:01 \u001B[90mv\u001B[39m #4 !      Running unittests spiral.rs (c:\\home\\git\\polyglot\\target\\spiral\\spiral\\target\\debug\\deps\\spiral_dbfb667908ae50aff3d7a1af93ee23a74abf6d4ef06b522335c47cceb7be2798-9c519cc92d8984c5.exe)\n",
       "00:00:01 \u001B[90mv\u001B[39m #5 >\n",
       "00:00:01 \u001B[90mv\u001B[39m #6 > running 1 test\n",
       "00:00:01 \u001B[90mv\u001B[39m #7 > test module_c10d29dc::Spiral::a ... ok\n",
       "00:00:01 \u001B[90mv\u001B[39m #8 >\n",
       "00:00:01 \u001B[90mv\u001B[39m #9 > successes:\n",
       "00:00:01 \u001B[90mv\u001B[39m #10 >\n",
       "00:00:01 \u001B[90mv\u001B[39m #11 > ---- module_c10d29dc::Spiral::a stdout ----\n",
       "00:00:01 \u001B[90mv\u001B[39m #12 > { name = __assert_eq; actual = false; expected = false }\n",
       "00:00:01 \u001B[90mv\u001B[39m #13 >\n",
       "00:00:01 \u001B[90mv\u001B[39m #14 >\n",
       "00:00:01 \u001B[90mv\u001B[39m #15 > successes:\n",
       "00:00:01 \u001B[90mv\u001B[39m #16 >     module_c10d29dc::Spiral::a\n",
       "00:00:01 \u001B[90mv\u001B[39m #17 >\n",
       "00:00:01 \u001B[90mv\u001B[39m #18 > test result: ok. 1 passed; 0 failed; 0 ignored; 0 measured; 0 filtered out; finished in 0.00s\n",
       "00:00:01 \u001B[90mv\u001B[39m #19 >\n",
       "00:00:01 \u001B[90mv\u001B[39m #20 runtime.execute_with_options / result / { exit_code = 0; std_trace_length = 814 }\n",
       "{ name = __assert_eq; actual = 0; expected = 0 }\n",
       "{ name = __assert; actual = test result: ok. 1 passed; 0 failed; 0 ignored;; expected = \u001B[4;7m   Compiling spiral_dbfb667908ae50aff3d7a1af93ee23a74abf6d4ef06b522335c47cceb7be2798 v0.0.1 (C:\\home\\git\\polyglot\\target\\spiral\\spiral\\packages\\Rust\\dbfb667908ae50aff3d7a1af93ee23a74abf6d4ef06b522335c47cceb7be2798)\u001B[0m\n",
       "\u001B[4;7m    Finished `test` profile [unoptimized + debuginfo] target(s) in 1.77s\u001B[0m\n",
       "\u001B[4;7m     Running unittests spiral.rs (c:\\home\\git\\polyglot\\target\\spiral\\spiral\\target\\debug\\deps\\spiral_dbfb667908ae50aff3d7a1af93ee23a74abf6d4ef06b522335c47cceb7be2798-9c519cc92d8984c5.exe)\u001B[0m\n",
       "\n",
       "running 1 test\n",
       "test module_c10d29dc::Spiral::a ... ok\n",
       "\n",
       "successes:\n",
       "\n",
       "---- module_c10d29dc::Spiral::a stdout ----\n",
       "{ name = __assert_eq; actual = false; expected = false }\n",
       "\n",
       "\n",
       "successes:\n",
       "    module_c10d29dc::Spiral::a\n",
       "\n",
       "test result: ok. 1 passed; 0 failed; 0 ignored; 0 measured; 0 filtered out; finished in 0.00s\n",
       " }\n"
      ]
     },
     "metadata": {},
     "output_type": "display_data"
    }
   ],
   "source": [
    "//// test\n",
    "///! rust -d encoding_rs encoding_rs_io\n",
    "\n",
    "fun () =>\n",
    "    run_tests_log {\n",
    "        a = _assert_eq false\n",
    "    }\n",
    "|> run"
   ]
  }
 ],
 "metadata": {},
 "nbformat": 4,
 "nbformat_minor": 5
}